{
  "nbformat": 4,
  "nbformat_minor": 0,
  "metadata": {
    "colab": {
      "provenance": []
    },
    "kernelspec": {
      "name": "python3",
      "display_name": "Python 3"
    },
    "language_info": {
      "name": "python"
    }
  },
  "cells": [
    {
      "cell_type": "markdown",
      "source": [
        "# FieldTwin API Python Examples\n",
        "\n",
        "This python notebook runs an example demo of using the FieldTwin API.  \n",
        "See the API documentation (https://api.fieldtwin.com/).   \n",
        "   \n",
        "    \n",
        "The demo requires an API access token to be entered. Press the run icon in \n",
        "the cell below to enter the API access token."
      ],
      "metadata": {
        "id": "sAz_p0vmTViv"
      }
    },
    {
      "cell_type": "code",
      "source": [
        "import getpass\n",
        "\n",
        "# User input to enter API token\n",
        "apiToken = getpass.getpass()"
      ],
      "metadata": {
        "id": "EmqubqfhUHTD",
        "colab": {
          "base_uri": "https://localhost:8080/"
        },
        "outputId": "b81c5f5a-87e9-4f71-c655-c25e4c5ee5d4"
      },
      "execution_count": 50,
      "outputs": [
        {
          "name": "stdout",
          "output_type": "stream",
          "text": [
            "··········\n"
          ]
        }
      ]
    },
    {
      "cell_type": "markdown",
      "source": [
        "# HTTPS GET examples\n",
        "\n",
        "The following code runs a GET request to read an example project."
      ],
      "metadata": {
        "id": "nfP0VHJpU7Sa"
      }
    },
    {
      "cell_type": "code",
      "source": [
        "import requests\n",
        "import json\n",
        "\n",
        "apiUrl = 'https://backend.qa.fieldtwin.com/API/v1.9/'\n",
        "\n",
        "# Field Exporter Integration Testing project\n",
        "projectId = '-M-HHqMifhz6qskW2goc'\n",
        "subprojectId = '-M-HI0DPuadaK9GLCWzR'\n",
        "\n",
        "if apiToken:\n",
        "  response = requests.get(\n",
        "    f'{apiUrl}{projectId}', \n",
        "    headers={'token': apiToken}\n",
        "  )\n",
        "  project = response.json()\n",
        "  print(project['name'])\n",
        "else:\n",
        "  print('API access token must be entered')"
      ],
      "metadata": {
        "colab": {
          "base_uri": "https://localhost:8080/"
        },
        "id": "r38KmZuIRuwT",
        "outputId": "cdc8dcf3-7583-44eb-c525-ee446f4b4524"
      },
      "execution_count": 79,
      "outputs": [
        {
          "output_type": "stream",
          "name": "stdout",
          "text": [
            "Field Exporter Integration Testing\n"
          ]
        }
      ]
    },
    {
      "cell_type": "markdown",
      "source": [
        "The following code loads subproject connection data into a Pandas data frame"
      ],
      "metadata": {
        "id": "1oYS0SgGjMUl"
      }
    },
    {
      "cell_type": "code",
      "source": [
        "import pandas as pd\n",
        "\n",
        "apiUrl = 'https://backend.qa.fieldtwin.com/API/v1.9/'\n",
        "\n",
        "# Field Exporter Integration Testing project\n",
        "projectId = '-M-HHqMifhz6qskW2goc'\n",
        "subprojectId = '-M-HI0DPuadaK9GLCWzR'\n",
        "\n",
        "# the pandas dataframe\n",
        "df = {}\n",
        "\n",
        "if apiToken:\n",
        "  # retrieve the subproject data\n",
        "  response = requests.get(\n",
        "    f'{apiUrl}{projectId}/subProject/{subprojectId}', \n",
        "    headers={'token': apiToken}\n",
        "  )\n",
        "  subproject = response.json()\n",
        "  connections = subproject['connections']\n",
        "\n",
        "  items = []\n",
        "  for connectionId in connections:\n",
        "    connection = connections[connectionId]\n",
        "    item = {\n",
        "      'Name': connection['params']['label'], \n",
        "      'Length': connection['length']\n",
        "    }\n",
        "    items.append(item)\n",
        "\n",
        "  # populate the dataframe\n",
        "  df  = pd.DataFrame(items)\n",
        "  \n",
        "else:\n",
        "  print('API access token must be entered')"
      ],
      "metadata": {
        "id": "QCyjlQc-jBLa"
      },
      "execution_count": 85,
      "outputs": []
    },
    {
      "cell_type": "markdown",
      "source": [
        "Sort the data and display in a table"
      ],
      "metadata": {
        "id": "6nAKXjB72VM9"
      }
    },
    {
      "cell_type": "code",
      "source": [
        "from IPython.display import display, HTML\n",
        "\n",
        "df.sort_values(by=['Length'], inplace=True)\n",
        "display(HTML(df.to_html()))"
      ],
      "metadata": {
        "colab": {
          "base_uri": "https://localhost:8080/",
          "height": 865
        },
        "id": "wLlyAb5q2Eo0",
        "outputId": "2f058ea2-ee3e-40ba-d9aa-a1dc9c710821"
      },
      "execution_count": 81,
      "outputs": [
        {
          "output_type": "display_data",
          "data": {
            "text/plain": [
              "<IPython.core.display.HTML object>"
            ],
            "text/html": [
              "<table border=\"1\" class=\"dataframe\">\n",
              "  <thead>\n",
              "    <tr style=\"text-align: right;\">\n",
              "      <th></th>\n",
              "      <th>Name</th>\n",
              "      <th>Length</th>\n",
              "    </tr>\n",
              "  </thead>\n",
              "  <tbody>\n",
              "    <tr>\n",
              "      <th>20</th>\n",
              "      <td>Umbilical #1</td>\n",
              "      <td>1.989916</td>\n",
              "    </tr>\n",
              "    <tr>\n",
              "      <th>19</th>\n",
              "      <td>Umbilical #1</td>\n",
              "      <td>14.962072</td>\n",
              "    </tr>\n",
              "    <tr>\n",
              "      <th>25</th>\n",
              "      <td>Umbilical #14</td>\n",
              "      <td>31.278866</td>\n",
              "    </tr>\n",
              "    <tr>\n",
              "      <th>7</th>\n",
              "      <td>Hydraulic Lead #1</td>\n",
              "      <td>37.206881</td>\n",
              "    </tr>\n",
              "    <tr>\n",
              "      <th>24</th>\n",
              "      <td>Umbilical #13</td>\n",
              "      <td>38.792629</td>\n",
              "    </tr>\n",
              "    <tr>\n",
              "      <th>22</th>\n",
              "      <td>Oil Production #8</td>\n",
              "      <td>41.080231</td>\n",
              "    </tr>\n",
              "    <tr>\n",
              "      <th>8</th>\n",
              "      <td>Umbilical #3</td>\n",
              "      <td>47.252462</td>\n",
              "    </tr>\n",
              "    <tr>\n",
              "      <th>10</th>\n",
              "      <td>Umbilical #5</td>\n",
              "      <td>50.437293</td>\n",
              "    </tr>\n",
              "    <tr>\n",
              "      <th>9</th>\n",
              "      <td>Umbilical #4</td>\n",
              "      <td>60.811873</td>\n",
              "    </tr>\n",
              "    <tr>\n",
              "      <th>12</th>\n",
              "      <td>Hydraulic Lead #2</td>\n",
              "      <td>62.142316</td>\n",
              "    </tr>\n",
              "    <tr>\n",
              "      <th>6</th>\n",
              "      <td>Oil Production #3</td>\n",
              "      <td>63.939489</td>\n",
              "    </tr>\n",
              "    <tr>\n",
              "      <th>5</th>\n",
              "      <td>Umbilical #2</td>\n",
              "      <td>77.774524</td>\n",
              "    </tr>\n",
              "    <tr>\n",
              "      <th>11</th>\n",
              "      <td>Umbilical #6</td>\n",
              "      <td>100.163816</td>\n",
              "    </tr>\n",
              "    <tr>\n",
              "      <th>23</th>\n",
              "      <td>Umbilical #12</td>\n",
              "      <td>106.109424</td>\n",
              "    </tr>\n",
              "    <tr>\n",
              "      <th>18</th>\n",
              "      <td>Umbilical #8</td>\n",
              "      <td>432.407946</td>\n",
              "    </tr>\n",
              "    <tr>\n",
              "      <th>1</th>\n",
              "      <td>Umbilical #9</td>\n",
              "      <td>476.650752</td>\n",
              "    </tr>\n",
              "    <tr>\n",
              "      <th>17</th>\n",
              "      <td>Oil Production #4</td>\n",
              "      <td>569.063332</td>\n",
              "    </tr>\n",
              "    <tr>\n",
              "      <th>21</th>\n",
              "      <td>Oil Production #33</td>\n",
              "      <td>606.611548</td>\n",
              "    </tr>\n",
              "    <tr>\n",
              "      <th>16</th>\n",
              "      <td>Oil Production #7</td>\n",
              "      <td>667.779391</td>\n",
              "    </tr>\n",
              "    <tr>\n",
              "      <th>15</th>\n",
              "      <td>Oil Production #6</td>\n",
              "      <td>684.181497</td>\n",
              "    </tr>\n",
              "    <tr>\n",
              "      <th>3</th>\n",
              "      <td>Oil Production #2</td>\n",
              "      <td>1009.691022</td>\n",
              "    </tr>\n",
              "    <tr>\n",
              "      <th>4</th>\n",
              "      <td>MEG #12</td>\n",
              "      <td>1103.688319</td>\n",
              "    </tr>\n",
              "    <tr>\n",
              "      <th>13</th>\n",
              "      <td>Water Injection #2</td>\n",
              "      <td>1148.452122</td>\n",
              "    </tr>\n",
              "    <tr>\n",
              "      <th>14</th>\n",
              "      <td>Oil Production #5</td>\n",
              "      <td>1354.896326</td>\n",
              "    </tr>\n",
              "    <tr>\n",
              "      <th>0</th>\n",
              "      <td>Water Injection #1</td>\n",
              "      <td>1468.990159</td>\n",
              "    </tr>\n",
              "    <tr>\n",
              "      <th>2</th>\n",
              "      <td>Umbilical #1</td>\n",
              "      <td>4030.050892</td>\n",
              "    </tr>\n",
              "  </tbody>\n",
              "</table>"
            ]
          },
          "metadata": {}
        }
      ]
    },
    {
      "cell_type": "markdown",
      "source": [
        "Sort and plot the dataframe"
      ],
      "metadata": {
        "id": "zcroYy3n2bEy"
      }
    },
    {
      "cell_type": "code",
      "source": [
        "import matplotlib.pyplot as plotter\n",
        "\n",
        "df.sort_values(by=['Name'], inplace=True)\n",
        "df.plot(kind = 'scatter', x = 'Length', y = 'Name', figsize=(5, 8))\n",
        "plotter.show()"
      ],
      "metadata": {
        "colab": {
          "base_uri": "https://localhost:8080/",
          "height": 497
        },
        "id": "tVTYKaes1pzS",
        "outputId": "ffe3241b-042e-4d35-84a6-b6eb6e0e5a61"
      },
      "execution_count": 82,
      "outputs": [
        {
          "output_type": "display_data",
          "data": {
            "text/plain": [
              "<Figure size 360x576 with 1 Axes>"
            ],
            "image/png": "[encoded data removed]"
          },
          "metadata": {
            "needs_background": "light"
          }
        }
      ]
    },
    {
      "cell_type": "markdown",
      "source": [
        "# HTTPS PATCH Example\n",
        "\n",
        "The following code performs an HTTPS PATCH operation to update a metadata value\n",
        "for a staged asset."
      ],
      "metadata": {
        "id": "c_7WhHVvXr3Q"
      }
    },
    {
      "cell_type": "code",
      "source": [
        "apiUrl = 'https://backend.qa.fieldtwin.com/API/v1.9/'\n",
        "\n",
        "# Field Exporter Integration Testing project\n",
        "projectId = '-M-HHqMifhz6qskW2goc'\n",
        "subprojectId = '-M-HI0DPuadaK9GLCWzR'\n",
        "\n",
        "# XMT shallow water asset\n",
        "asset = '-MkCvy0SPaTe65knzJmN'\n",
        "\n",
        "# Design Life metadata update value\n",
        "patchData ='{\"metaData\": [{\"metaDatumId\": \"-N68U9EVu9djcN8gahs2\", \"value\": 20}]}'\n",
        "\n",
        "if apiToken:\n",
        "  response = requests.patch(\n",
        "    f'{apiUrl}{projectId}/subProject/{subprojectId}/stagedAsset/{asset}', \n",
        "    data=patchData,\n",
        "    headers={'token': apiToken, \"Content-Type\": \"application/json\"}\n",
        "  )\n",
        "  print(response)\n",
        "\n",
        "else:\n",
        "  print('API access token must be entered')\n",
        "\n"
      ],
      "metadata": {
        "colab": {
          "base_uri": "https://localhost:8080/"
        },
        "id": "nAF0xq67aCb9",
        "outputId": "d968967c-be48-4690-fa5f-890730e5174d"
      },
      "execution_count": 107,
      "outputs": [
        {
          "output_type": "stream",
          "name": "stdout",
          "text": [
            "<Response [200]>\n"
          ]
        }
      ]
    },
    {
      "cell_type": "markdown",
      "source": [
        "Perform a GET to read back the updated metadata value"
      ],
      "metadata": {
        "id": "gHuFZmstpZ-L"
      }
    },
    {
      "cell_type": "code",
      "source": [
        "if apiToken:\n",
        "  response = requests.get(\n",
        "    f'{apiUrl}{projectId}/subProject/{subprojectId}/stagedAsset/{asset}', \n",
        "    headers={'token': apiToken, \"Content-Type\": \"application/json\"}\n",
        "  )\n",
        "  assetData = response.json()\n",
        "  metaData = assetData['metaData']\n",
        "\n",
        "  for item in metaData:\n",
        "    if item['name'] == 'Design Life':\n",
        "      print(f'{assetData[\"name\"]}: {item[\"name\"]}: {item[\"value\"]} {item[\"unit\"][\"unitDefaultSymbol\"]}')\n",
        "\n",
        "else:\n",
        "  print('API access token must be entered')"
      ],
      "metadata": {
        "colab": {
          "base_uri": "https://localhost:8080/"
        },
        "id": "Ue2pWGY0kW-d",
        "outputId": "8728a2ee-94df-4047-f004-3757ddcc0364"
      },
      "execution_count": 110,
      "outputs": [
        {
          "output_type": "stream",
          "name": "stdout",
          "text": [
            "XMT shallow water #4: Design Life: 20 Years\n"
          ]
        }
      ]
    }
  ]
}