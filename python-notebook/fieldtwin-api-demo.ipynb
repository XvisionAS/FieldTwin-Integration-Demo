{
 "cells": [
  {
   "cell_type": "markdown",
   "metadata": {
    "id": "sAz_p0vmTViv"
   },
   "source": [
    "# FieldTwin API Python Examples\n",
    "\n",
    "This python notebook runs an example demo of using the FieldTwin API.  \n",
    "See the API documentation (https://api.fieldtwin.com/).   \n",
    "   \n",
    "    \n",
    "The demo requires an API access token to be entered. Press the run icon in \n",
    "the cell below to enter the API access token."
   ]
  },
  {
   "cell_type": "code",
   "execution_count": null,
   "metadata": {
    "colab": {
     "base_uri": "https://localhost:8080/"
    },
    "id": "EmqubqfhUHTD",
    "outputId": "ab495ac6-fd7d-486e-b3f1-833e82855439"
   },
   "outputs": [],
   "source": [
    "import getpass\n",
    "\n",
    "api_token = ''\n",
    "# User input to enter API token\n",
    "api_token = getpass.getpass()"
   ]
  },
  {
   "cell_type": "markdown",
   "metadata": {
    "id": "nfP0VHJpU7Sa"
   },
   "source": [
    "# HTTPS GET examples\n",
    "\n",
    "The following code runs a GET request to read an example project."
   ]
  },
  {
   "cell_type": "code",
   "execution_count": null,
   "metadata": {
    "colab": {
     "base_uri": "https://localhost:8080/"
    },
    "id": "r38KmZuIRuwT",
    "outputId": "01fee2ed-1334-4c68-f8e8-e6931498dc13"
   },
   "outputs": [],
   "source": [
    "import requests\n",
    "import json\n",
    "\n",
    "api_url = 'https://backend.qa.fieldtwin.com/API/v1.10/'\n",
    "\n",
    "# Field Exporter Integration Testing project\n",
    "project_id = '-M-HHqMifhz6qskW2goc'\n",
    "subproject_id = '-M-HI0DPuadaK9GLCWzR'\n",
    "\n",
    "if api_token:\n",
    "  # request project data using FieldTwin API\n",
    "  response = requests.get(\n",
    "    f'{api_url}{project_id}', \n",
    "    headers={'token': api_token}\n",
    "  )\n",
    "  project = response.json()\n",
    "\n",
    "  # check for successful API response\n",
    "  if (response.status_code == requests.codes.ok):\n",
    "    print(project['name'])\n",
    "  else: \n",
    "    print('API request failed:', response.status_code)\n",
    "\n",
    "else:\n",
    "  print('API access token must be entered')"
   ]
  },
  {
   "cell_type": "markdown",
   "metadata": {
    "id": "1oYS0SgGjMUl"
   },
   "source": [
    "The following code loads subproject connection data into a Pandas data frame"
   ]
  },
  {
   "cell_type": "code",
   "execution_count": null,
   "metadata": {
    "id": "QCyjlQc-jBLa"
   },
   "outputs": [],
   "source": [
    "import pandas as pd\n",
    "\n",
    "api_url = 'https://backend.qa.fieldtwin.com/API/v1.10/'\n",
    "\n",
    "# Field Exporter Integration Testing project\n",
    "project_id = '-M-HHqMifhz6qskW2goc'\n",
    "subproject_id = '-M-HI0DPuadaK9GLCWzR'\n",
    "\n",
    "# the pandas dataframe\n",
    "df = pd.DataFrame()\n",
    "\n",
    "if api_token:\n",
    "  # retrieve the subproject data\n",
    "  response = requests.get(\n",
    "    f'{api_url}{project_id}/subProject/{subproject_id}', \n",
    "    headers={'token': api_token}\n",
    "  )\n",
    "\n",
    "  # check for successful API response\n",
    "  if (response.status_code != requests.codes.ok):\n",
    "    print('API request failed:', response.status_code)\n",
    "\n",
    "  else: \n",
    "    # read the subproject data\n",
    "    subproject = response.json()\n",
    "\n",
    "    # read the connections data\n",
    "    connections = subproject['connections']\n",
    "\n",
    "    items = []\n",
    "    for connection_id in connections:\n",
    "      connection = connections[connection_id]\n",
    "      label = connection.get('params', {}).get('label', 'Un-named Connection')\n",
    "      item = {\n",
    "        'Name': label, \n",
    "        'Length': connection['length']\n",
    "      }\n",
    "      items.append(item)\n",
    "\n",
    "    # populate the dataframe\n",
    "    df  = pd.DataFrame(items)\n",
    "  \n",
    "else:\n",
    "  print('API access token must be entered')"
   ]
  },
  {
   "cell_type": "markdown",
   "metadata": {
    "id": "6nAKXjB72VM9"
   },
   "source": [
    "Sort the data and display in a table"
   ]
  },
  {
   "cell_type": "code",
   "execution_count": null,
   "metadata": {
    "colab": {
     "base_uri": "https://localhost:8080/",
     "height": 865
    },
    "id": "wLlyAb5q2Eo0",
    "outputId": "b8d3fe90-2d59-4ede-b52f-fbceb475940f"
   },
   "outputs": [],
   "source": [
    "from IPython.display import display, HTML\n",
    "\n",
    "if df.empty:\n",
    "  print('Data frame is empty')\n",
    "else:\n",
    "  df.sort_values(by=['Length'], inplace=True)\n",
    "  display(HTML(df.to_html()))"
   ]
  },
  {
   "cell_type": "markdown",
   "metadata": {
    "id": "zcroYy3n2bEy"
   },
   "source": [
    "Sort and plot the dataframe"
   ]
  },
  {
   "cell_type": "code",
   "execution_count": null,
   "metadata": {
    "colab": {
     "base_uri": "https://localhost:8080/",
     "height": 497
    },
    "id": "tVTYKaes1pzS",
    "outputId": "38b0b0e5-77db-4fd2-9fa4-ad6209156181"
   },
   "outputs": [],
   "source": [
    "import matplotlib.pyplot as plotter\n",
    "\n",
    "if df.empty:\n",
    "  print('Data frame is empty')\n",
    "else:\n",
    "  df.sort_values(by=['Name'], inplace=True)\n",
    "  df.plot(kind = 'scatter', x = 'Length', y = 'Name', figsize=(5, 8))\n",
    "  plotter.show()"
   ]
  },
  {
   "cell_type": "markdown",
   "metadata": {
    "id": "c_7WhHVvXr3Q"
   },
   "source": [
    "# HTTPS PATCH Example\n",
    "\n",
    "The following code performs an HTTPS PATCH operation to update a metadata value\n",
    "for a staged asset."
   ]
  },
  {
   "cell_type": "code",
   "execution_count": null,
   "metadata": {
    "colab": {
     "base_uri": "https://localhost:8080/"
    },
    "id": "nAF0xq67aCb9",
    "outputId": "2cc1c85b-7ec5-4a91-feac-f5e509833c58"
   },
   "outputs": [],
   "source": [
    "api_url = 'https://backend.qa.fieldtwin.com/API/v1.10/'\n",
    "\n",
    "# Field Exporter Integration Testing project\n",
    "project_id = '-M-HHqMifhz6qskW2goc'\n",
    "subproject_id = '-M-HI0DPuadaK9GLCWzR'\n",
    "\n",
    "# XMT shallow water asset\n",
    "asset = '-MkCvy0SPaTe65knzJmN'\n",
    "\n",
    "# Design Life metadata update value\n",
    "patch_data ='{\"metaData\": [{\"metaDatumId\": \"-N68U9EVu9djcN8gahs2\", \"value\": 15}]}'\n",
    "\n",
    "if api_token:\n",
    "  # invoke an API 'patch' to update the metadata value\n",
    "  response = requests.patch(\n",
    "    f'{api_url}{project_id}/subProject/{subproject_id}/stagedAsset/{asset}', \n",
    "    data = patch_data,\n",
    "    headers = {'token': api_token, \"Content-Type\": \"application/json\"}\n",
    "  )\n",
    "  print(response)\n",
    "\n",
    "else:\n",
    "  print('API access token must be entered')\n",
    "\n"
   ]
  },
  {
   "cell_type": "markdown",
   "metadata": {
    "id": "gHuFZmstpZ-L"
   },
   "source": [
    "Perform a GET to read back the updated metadata value"
   ]
  },
  {
   "cell_type": "code",
   "execution_count": null,
   "metadata": {
    "colab": {
     "base_uri": "https://localhost:8080/"
    },
    "id": "Ue2pWGY0kW-d",
    "outputId": "ff30867a-05a1-43c3-db6b-fe74a3eaf982"
   },
   "outputs": [],
   "source": [
    "if api_token:\n",
    "  # invoke a get request for the asset data\n",
    "  response = requests.get(\n",
    "    f'{api_url}{project_id}/subProject/{subproject_id}/stagedAsset/{asset}', \n",
    "    headers={'token': api_token, \"Content-Type\": \"application/json\"}\n",
    "  )\n",
    "\n",
    "  # check for successful API response\n",
    "  if (response.status_code != requests.codes.ok):\n",
    "    print('API request failed:', response.status_code)\n",
    "\n",
    "  else: \n",
    "    # read the asset metadata\n",
    "    asset_data = response.json()\n",
    "    metadata = asset_data['metaData']\n",
    "\n",
    "    # display the 'Design Life' metadata value\n",
    "    for item in metadata:\n",
    "      if item['name'] == 'Design Life':\n",
    "        value = item[\"value\"]\n",
    "        unit = item[\"unit\"][\"unitDefaultSymbol\"]\n",
    "        print(f'{asset_data[\"name\"]}: {item[\"name\"]}: {value} {unit}')\n",
    "\n",
    "else:\n",
    "  print('API access token must be entered')"
   ]
  }
 ],
 "metadata": {
  "colab": {
   "provenance": []
  },
  "kernelspec": {
   "display_name": "Python 3 (ipykernel)",
   "language": "python",
   "name": "python3"
  },
  "language_info": {
   "codemirror_mode": {
    "name": "ipython",
    "version": 3
   },
   "file_extension": ".py",
   "mimetype": "text/x-python",
   "name": "python",
   "nbconvert_exporter": "python",
   "pygments_lexer": "ipython3",
   "version": "3.10.11"
  },
  "vscode": {
   "interpreter": {
    "hash": "681ad715b07ed9eab1aeff09a19a03739b822a39691917612f866987044069db"
   }
  }
 },
 "nbformat": 4,
 "nbformat_minor": 4
}
