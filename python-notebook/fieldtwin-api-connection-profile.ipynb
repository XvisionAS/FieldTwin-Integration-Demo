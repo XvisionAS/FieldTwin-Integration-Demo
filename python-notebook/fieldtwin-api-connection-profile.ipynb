{
  "nbformat": 4,
  "nbformat_minor": 0,
  "metadata": {
    "colab": {
      "provenance": []
    },
    "kernelspec": {
      "name": "python3",
      "display_name": "Python 3"
    },
    "language_info": {
      "name": "python"
    },
    "widgets": {
      "application/vnd.jupyter.widget-state+json": {
        "7b49737673614f13a2984c834987c197": {
          "model_module": "@jupyter-widgets/controls",
          "model_name": "TextModel",
          "model_module_version": "1.5.0",
          "state": {
            "_dom_classes": [],
            "_model_module": "@jupyter-widgets/controls",
            "_model_module_version": "1.5.0",
            "_model_name": "TextModel",
            "_view_count": null,
            "_view_module": "@jupyter-widgets/controls",
            "_view_module_version": "1.5.0",
            "_view_name": "TextView",
            "continuous_update": true,
            "description": "API:",
            "description_tooltip": null,
            "disabled": false,
            "layout": "IPY_MODEL_99fbdd6eb48c478481c69bf93fc28e38",
            "placeholder": "https://backend.qa.fieldtwin.com/API/v1.9/",
            "style": "IPY_MODEL_de133bb12aba444a94cfb0289ede6dce",
            "value": "https://backend.qa.fieldtwin.com/API/v1.9/"
          }
        },
        "99fbdd6eb48c478481c69bf93fc28e38": {
          "model_module": "@jupyter-widgets/base",
          "model_name": "LayoutModel",
          "model_module_version": "1.2.0",
          "state": {
            "_model_module": "@jupyter-widgets/base",
            "_model_module_version": "1.2.0",
            "_model_name": "LayoutModel",
            "_view_count": null,
            "_view_module": "@jupyter-widgets/base",
            "_view_module_version": "1.2.0",
            "_view_name": "LayoutView",
            "align_content": null,
            "align_items": null,
            "align_self": null,
            "border": null,
            "bottom": null,
            "display": null,
            "flex": null,
            "flex_flow": null,
            "grid_area": null,
            "grid_auto_columns": null,
            "grid_auto_flow": null,
            "grid_auto_rows": null,
            "grid_column": null,
            "grid_gap": null,
            "grid_row": null,
            "grid_template_areas": null,
            "grid_template_columns": null,
            "grid_template_rows": null,
            "height": null,
            "justify_content": null,
            "justify_items": null,
            "left": null,
            "margin": null,
            "max_height": null,
            "max_width": null,
            "min_height": null,
            "min_width": null,
            "object_fit": null,
            "object_position": null,
            "order": null,
            "overflow": null,
            "overflow_x": null,
            "overflow_y": null,
            "padding": null,
            "right": null,
            "top": null,
            "visibility": null,
            "width": "25rem"
          }
        },
        "de133bb12aba444a94cfb0289ede6dce": {
          "model_module": "@jupyter-widgets/controls",
          "model_name": "DescriptionStyleModel",
          "model_module_version": "1.5.0",
          "state": {
            "_model_module": "@jupyter-widgets/controls",
            "_model_module_version": "1.5.0",
            "_model_name": "DescriptionStyleModel",
            "_view_count": null,
            "_view_module": "@jupyter-widgets/base",
            "_view_module_version": "1.2.0",
            "_view_name": "StyleView",
            "description_width": ""
          }
        },
        "4926c8ca1e034ed9b46a42b09edf3b77": {
          "model_module": "@jupyter-widgets/controls",
          "model_name": "PasswordModel",
          "model_module_version": "1.5.0",
          "state": {
            "_dom_classes": [],
            "_model_module": "@jupyter-widgets/controls",
            "_model_module_version": "1.5.0",
            "_model_name": "PasswordModel",
            "_view_count": null,
            "_view_module": "@jupyter-widgets/controls",
            "_view_module_version": "1.5.0",
            "_view_name": "PasswordView",
            "continuous_update": true,
            "description": "Token",
            "description_tooltip": null,
            "disabled": false,
            "layout": "IPY_MODEL_19e4e17b56424449ac8790e2b3e412c2",
            "placeholder": "Enter API Token",
            "style": "IPY_MODEL_c5d00c5169db4ce68856b2c42d08cc22",
            "value": ""
          }
        },
        "19e4e17b56424449ac8790e2b3e412c2": {
          "model_module": "@jupyter-widgets/base",
          "model_name": "LayoutModel",
          "model_module_version": "1.2.0",
          "state": {
            "_model_module": "@jupyter-widgets/base",
            "_model_module_version": "1.2.0",
            "_model_name": "LayoutModel",
            "_view_count": null,
            "_view_module": "@jupyter-widgets/base",
            "_view_module_version": "1.2.0",
            "_view_name": "LayoutView",
            "align_content": null,
            "align_items": null,
            "align_self": null,
            "border": null,
            "bottom": null,
            "display": null,
            "flex": null,
            "flex_flow": null,
            "grid_area": null,
            "grid_auto_columns": null,
            "grid_auto_flow": null,
            "grid_auto_rows": null,
            "grid_column": null,
            "grid_gap": null,
            "grid_row": null,
            "grid_template_areas": null,
            "grid_template_columns": null,
            "grid_template_rows": null,
            "height": null,
            "justify_content": null,
            "justify_items": null,
            "left": null,
            "margin": null,
            "max_height": null,
            "max_width": null,
            "min_height": null,
            "min_width": null,
            "object_fit": null,
            "object_position": null,
            "order": null,
            "overflow": null,
            "overflow_x": null,
            "overflow_y": null,
            "padding": null,
            "right": null,
            "top": null,
            "visibility": null,
            "width": null
          }
        },
        "c5d00c5169db4ce68856b2c42d08cc22": {
          "model_module": "@jupyter-widgets/controls",
          "model_name": "DescriptionStyleModel",
          "model_module_version": "1.5.0",
          "state": {
            "_model_module": "@jupyter-widgets/controls",
            "_model_module_version": "1.5.0",
            "_model_name": "DescriptionStyleModel",
            "_view_count": null,
            "_view_module": "@jupyter-widgets/base",
            "_view_module_version": "1.2.0",
            "_view_name": "StyleView",
            "description_width": ""
          }
        },
        "c04ce0b4e93c4da8b72e0e2a14f229d8": {
          "model_module": "@jupyter-widgets/controls",
          "model_name": "TextModel",
          "model_module_version": "1.5.0",
          "state": {
            "_dom_classes": [],
            "_model_module": "@jupyter-widgets/controls",
            "_model_module_version": "1.5.0",
            "_model_name": "TextModel",
            "_view_count": null,
            "_view_module": "@jupyter-widgets/controls",
            "_view_module_version": "1.5.0",
            "_view_name": "TextView",
            "continuous_update": true,
            "description": "Project:",
            "description_tooltip": null,
            "disabled": false,
            "layout": "IPY_MODEL_8babf1846a12475c805fd6527c428d63",
            "placeholder": "-M-HHqMifhz6qskW2goc",
            "style": "IPY_MODEL_5869fdc6457946e99334206485d22674",
            "value": "-M-HHqMifhz6qskW2goc"
          }
        },
        "8babf1846a12475c805fd6527c428d63": {
          "model_module": "@jupyter-widgets/base",
          "model_name": "LayoutModel",
          "model_module_version": "1.2.0",
          "state": {
            "_model_module": "@jupyter-widgets/base",
            "_model_module_version": "1.2.0",
            "_model_name": "LayoutModel",
            "_view_count": null,
            "_view_module": "@jupyter-widgets/base",
            "_view_module_version": "1.2.0",
            "_view_name": "LayoutView",
            "align_content": null,
            "align_items": null,
            "align_self": null,
            "border": null,
            "bottom": null,
            "display": null,
            "flex": null,
            "flex_flow": null,
            "grid_area": null,
            "grid_auto_columns": null,
            "grid_auto_flow": null,
            "grid_auto_rows": null,
            "grid_column": null,
            "grid_gap": null,
            "grid_row": null,
            "grid_template_areas": null,
            "grid_template_columns": null,
            "grid_template_rows": null,
            "height": null,
            "justify_content": null,
            "justify_items": null,
            "left": null,
            "margin": null,
            "max_height": null,
            "max_width": null,
            "min_height": null,
            "min_width": null,
            "object_fit": null,
            "object_position": null,
            "order": null,
            "overflow": null,
            "overflow_x": null,
            "overflow_y": null,
            "padding": null,
            "right": null,
            "top": null,
            "visibility": null,
            "width": null
          }
        },
        "5869fdc6457946e99334206485d22674": {
          "model_module": "@jupyter-widgets/controls",
          "model_name": "DescriptionStyleModel",
          "model_module_version": "1.5.0",
          "state": {
            "_model_module": "@jupyter-widgets/controls",
            "_model_module_version": "1.5.0",
            "_model_name": "DescriptionStyleModel",
            "_view_count": null,
            "_view_module": "@jupyter-widgets/base",
            "_view_module_version": "1.2.0",
            "_view_name": "StyleView",
            "description_width": ""
          }
        },
        "91e5a60760bb48cf93ab5dc799ae3253": {
          "model_module": "@jupyter-widgets/controls",
          "model_name": "TextModel",
          "model_module_version": "1.5.0",
          "state": {
            "_dom_classes": [],
            "_model_module": "@jupyter-widgets/controls",
            "_model_module_version": "1.5.0",
            "_model_name": "TextModel",
            "_view_count": null,
            "_view_module": "@jupyter-widgets/controls",
            "_view_module_version": "1.5.0",
            "_view_name": "TextView",
            "continuous_update": true,
            "description": "SubProject:",
            "description_tooltip": null,
            "disabled": false,
            "layout": "IPY_MODEL_b5443046f8654ba3950dfc8e8af10308",
            "placeholder": "-M-HI0DPuadaK9GLCWzR",
            "style": "IPY_MODEL_7e2d82dee6844779838ed089b4901f90",
            "value": "-M-HI0DPuadaK9GLCWzR"
          }
        },
        "b5443046f8654ba3950dfc8e8af10308": {
          "model_module": "@jupyter-widgets/base",
          "model_name": "LayoutModel",
          "model_module_version": "1.2.0",
          "state": {
            "_model_module": "@jupyter-widgets/base",
            "_model_module_version": "1.2.0",
            "_model_name": "LayoutModel",
            "_view_count": null,
            "_view_module": "@jupyter-widgets/base",
            "_view_module_version": "1.2.0",
            "_view_name": "LayoutView",
            "align_content": null,
            "align_items": null,
            "align_self": null,
            "border": null,
            "bottom": null,
            "display": null,
            "flex": null,
            "flex_flow": null,
            "grid_area": null,
            "grid_auto_columns": null,
            "grid_auto_flow": null,
            "grid_auto_rows": null,
            "grid_column": null,
            "grid_gap": null,
            "grid_row": null,
            "grid_template_areas": null,
            "grid_template_columns": null,
            "grid_template_rows": null,
            "height": null,
            "justify_content": null,
            "justify_items": null,
            "left": null,
            "margin": null,
            "max_height": null,
            "max_width": null,
            "min_height": null,
            "min_width": null,
            "object_fit": null,
            "object_position": null,
            "order": null,
            "overflow": null,
            "overflow_x": null,
            "overflow_y": null,
            "padding": null,
            "right": null,
            "top": null,
            "visibility": null,
            "width": null
          }
        },
        "7e2d82dee6844779838ed089b4901f90": {
          "model_module": "@jupyter-widgets/controls",
          "model_name": "DescriptionStyleModel",
          "model_module_version": "1.5.0",
          "state": {
            "_model_module": "@jupyter-widgets/controls",
            "_model_module_version": "1.5.0",
            "_model_name": "DescriptionStyleModel",
            "_view_count": null,
            "_view_module": "@jupyter-widgets/base",
            "_view_module_version": "1.2.0",
            "_view_name": "StyleView",
            "description_width": ""
          }
        },
        "07fcc6365a8b4483b9d27a3643fc8e62": {
          "model_module": "@jupyter-widgets/controls",
          "model_name": "ButtonModel",
          "model_module_version": "1.5.0",
          "state": {
            "_dom_classes": [],
            "_model_module": "@jupyter-widgets/controls",
            "_model_module_version": "1.5.0",
            "_model_name": "ButtonModel",
            "_view_count": null,
            "_view_module": "@jupyter-widgets/controls",
            "_view_module_version": "1.5.0",
            "_view_name": "ButtonView",
            "button_style": "info",
            "description": "Load SubProject",
            "disabled": false,
            "icon": "",
            "layout": "IPY_MODEL_5e01080aa689481bb80998e60837d164",
            "style": "IPY_MODEL_1248b93d764e4cc48d5de94703c5ef89",
            "tooltip": ""
          }
        },
        "5e01080aa689481bb80998e60837d164": {
          "model_module": "@jupyter-widgets/base",
          "model_name": "LayoutModel",
          "model_module_version": "1.2.0",
          "state": {
            "_model_module": "@jupyter-widgets/base",
            "_model_module_version": "1.2.0",
            "_model_name": "LayoutModel",
            "_view_count": null,
            "_view_module": "@jupyter-widgets/base",
            "_view_module_version": "1.2.0",
            "_view_name": "LayoutView",
            "align_content": null,
            "align_items": null,
            "align_self": null,
            "border": null,
            "bottom": null,
            "display": null,
            "flex": null,
            "flex_flow": null,
            "grid_area": null,
            "grid_auto_columns": null,
            "grid_auto_flow": null,
            "grid_auto_rows": null,
            "grid_column": null,
            "grid_gap": null,
            "grid_row": null,
            "grid_template_areas": null,
            "grid_template_columns": null,
            "grid_template_rows": null,
            "height": null,
            "justify_content": null,
            "justify_items": null,
            "left": null,
            "margin": null,
            "max_height": null,
            "max_width": null,
            "min_height": null,
            "min_width": null,
            "object_fit": null,
            "object_position": null,
            "order": null,
            "overflow": null,
            "overflow_x": null,
            "overflow_y": null,
            "padding": null,
            "right": null,
            "top": null,
            "visibility": null,
            "width": null
          }
        },
        "1248b93d764e4cc48d5de94703c5ef89": {
          "model_module": "@jupyter-widgets/controls",
          "model_name": "ButtonStyleModel",
          "model_module_version": "1.5.0",
          "state": {
            "_model_module": "@jupyter-widgets/controls",
            "_model_module_version": "1.5.0",
            "_model_name": "ButtonStyleModel",
            "_view_count": null,
            "_view_module": "@jupyter-widgets/base",
            "_view_module_version": "1.2.0",
            "_view_name": "StyleView",
            "button_color": null,
            "font_weight": ""
          }
        },
        "f28d0e2008244b7b8b39087602c1dcaf": {
          "model_module": "@jupyter-widgets/controls",
          "model_name": "DropdownModel",
          "model_module_version": "1.5.0",
          "state": {
            "_dom_classes": [],
            "_model_module": "@jupyter-widgets/controls",
            "_model_module_version": "1.5.0",
            "_model_name": "DropdownModel",
            "_options_labels": [],
            "_view_count": null,
            "_view_module": "@jupyter-widgets/controls",
            "_view_module_version": "1.5.0",
            "_view_name": "DropdownView",
            "description": "",
            "description_tooltip": null,
            "disabled": false,
            "index": null,
            "layout": "IPY_MODEL_861b7b4c202d4f71a4dc9e9d2d9d90c1",
            "style": "IPY_MODEL_ee8210ea1e45436dba1a55c6bb58171f"
          }
        },
        "861b7b4c202d4f71a4dc9e9d2d9d90c1": {
          "model_module": "@jupyter-widgets/base",
          "model_name": "LayoutModel",
          "model_module_version": "1.2.0",
          "state": {
            "_model_module": "@jupyter-widgets/base",
            "_model_module_version": "1.2.0",
            "_model_name": "LayoutModel",
            "_view_count": null,
            "_view_module": "@jupyter-widgets/base",
            "_view_module_version": "1.2.0",
            "_view_name": "LayoutView",
            "align_content": null,
            "align_items": null,
            "align_self": null,
            "border": null,
            "bottom": null,
            "display": null,
            "flex": null,
            "flex_flow": null,
            "grid_area": null,
            "grid_auto_columns": null,
            "grid_auto_flow": null,
            "grid_auto_rows": null,
            "grid_column": null,
            "grid_gap": null,
            "grid_row": null,
            "grid_template_areas": null,
            "grid_template_columns": null,
            "grid_template_rows": null,
            "height": null,
            "justify_content": null,
            "justify_items": null,
            "left": null,
            "margin": null,
            "max_height": null,
            "max_width": null,
            "min_height": null,
            "min_width": null,
            "object_fit": null,
            "object_position": null,
            "order": null,
            "overflow": null,
            "overflow_x": null,
            "overflow_y": null,
            "padding": null,
            "right": null,
            "top": null,
            "visibility": null,
            "width": null
          }
        },
        "ee8210ea1e45436dba1a55c6bb58171f": {
          "model_module": "@jupyter-widgets/controls",
          "model_name": "DescriptionStyleModel",
          "model_module_version": "1.5.0",
          "state": {
            "_model_module": "@jupyter-widgets/controls",
            "_model_module_version": "1.5.0",
            "_model_name": "DescriptionStyleModel",
            "_view_count": null,
            "_view_module": "@jupyter-widgets/base",
            "_view_module_version": "1.2.0",
            "_view_name": "StyleView",
            "description_width": ""
          }
        },
        "85d4c8d787d446d086432c8dc9ed777a": {
          "model_module": "@jupyter-widgets/controls",
          "model_name": "ButtonModel",
          "model_module_version": "1.5.0",
          "state": {
            "_dom_classes": [],
            "_model_module": "@jupyter-widgets/controls",
            "_model_module_version": "1.5.0",
            "_model_name": "ButtonModel",
            "_view_count": null,
            "_view_module": "@jupyter-widgets/controls",
            "_view_module_version": "1.5.0",
            "_view_name": "ButtonView",
            "button_style": "info",
            "description": "Display Profile",
            "disabled": false,
            "icon": "",
            "layout": "IPY_MODEL_65c0aa0c2ca74741b7bce6f9a451a469",
            "style": "IPY_MODEL_ea4b6e43f8864acf9249315b1fe68ee7",
            "tooltip": ""
          }
        },
        "65c0aa0c2ca74741b7bce6f9a451a469": {
          "model_module": "@jupyter-widgets/base",
          "model_name": "LayoutModel",
          "model_module_version": "1.2.0",
          "state": {
            "_model_module": "@jupyter-widgets/base",
            "_model_module_version": "1.2.0",
            "_model_name": "LayoutModel",
            "_view_count": null,
            "_view_module": "@jupyter-widgets/base",
            "_view_module_version": "1.2.0",
            "_view_name": "LayoutView",
            "align_content": null,
            "align_items": null,
            "align_self": null,
            "border": null,
            "bottom": null,
            "display": null,
            "flex": null,
            "flex_flow": null,
            "grid_area": null,
            "grid_auto_columns": null,
            "grid_auto_flow": null,
            "grid_auto_rows": null,
            "grid_column": null,
            "grid_gap": null,
            "grid_row": null,
            "grid_template_areas": null,
            "grid_template_columns": null,
            "grid_template_rows": null,
            "height": null,
            "justify_content": null,
            "justify_items": null,
            "left": null,
            "margin": null,
            "max_height": null,
            "max_width": null,
            "min_height": null,
            "min_width": null,
            "object_fit": null,
            "object_position": null,
            "order": null,
            "overflow": null,
            "overflow_x": null,
            "overflow_y": null,
            "padding": null,
            "right": null,
            "top": null,
            "visibility": null,
            "width": null
          }
        },
        "ea4b6e43f8864acf9249315b1fe68ee7": {
          "model_module": "@jupyter-widgets/controls",
          "model_name": "ButtonStyleModel",
          "model_module_version": "1.5.0",
          "state": {
            "_model_module": "@jupyter-widgets/controls",
            "_model_module_version": "1.5.0",
            "_model_name": "ButtonStyleModel",
            "_view_count": null,
            "_view_module": "@jupyter-widgets/base",
            "_view_module_version": "1.2.0",
            "_view_name": "StyleView",
            "button_color": null,
            "font_weight": ""
          }
        }
      }
    }
  },
  "cells": [
    {
      "cell_type": "markdown",
      "source": [
        "# FieldTwin API - Python example plotting connection profile\n",
        "\n",
        "This python notebook provides an example demo of using the FieldTwin API.   \n",
        "See the API documentation (https://api.fieldtwin.com/).\n",
        "\n",
        "The example creates an input form to enter the FieldTwin project and subproject     \n",
        "and loads the subproject data using the FieldTwin API.\n",
        "\n",
        "A connection can then be selected from the subproject connections       \n",
        "and its connection profile is plotted.\n",
        "\n",
        "</br>\n",
        "\n",
        "---\n",
        "The code below creates a form to input the FieldTwin API URL, the project id and subproject id.   \n",
        "The demo requires an API access token to be entered."
      ],
      "metadata": {
        "id": "QchwaBShHJMJ"
      }
    },
    {
      "cell_type": "code",
      "source": [
        "#@title Create User Inputs\n",
        "import ipywidgets as widgets\n",
        "from IPython.display import display\n",
        "import requests\n",
        "import json\n",
        "\n",
        "# Create the user interface\n",
        "\n",
        "# API URL input\n",
        "apiUrl = 'https://backend.qa.fieldtwin.com/API/v1.9/'\n",
        "apiUrlInput = widgets.Text(\n",
        "  description = 'API:',\n",
        "  layout = widgets.Layout(width='25rem'),\n",
        "  value = apiUrl,\n",
        "  placeholder = apiUrl,\n",
        ")\n",
        "\n",
        "# API Token input\n",
        "tokenInput = widgets.Password(\n",
        "  description = 'Token',\n",
        "  value = '',\n",
        "  placeholder = 'Enter API Token',\n",
        ")\n",
        "\n",
        "# Project Id input\n",
        "projectId = '-M-HHqMifhz6qskW2goc'\n",
        "projectIdInput = widgets.Text(\n",
        "  value = projectId,\n",
        "  placeholder = projectId,\n",
        "  description='Project:',\n",
        ")\n",
        "\n",
        "# Subproject Id input\n",
        "subprojectId = '-M-HI0DPuadaK9GLCWzR'\n",
        "subprojectIdInput = widgets.Text(\n",
        "  description = 'SubProject:',\n",
        "  value = subprojectId,\n",
        "  placeholder = subprojectId,\n",
        ")\n",
        "\n",
        "# Load subproject button\n",
        "subprojectButton = widgets.Button(\n",
        "  description = 'Load SubProject', \n",
        "  button_style='info'\n",
        ")\n",
        "\n",
        "# create connection dropdown menu\n",
        "connectionSelect = widgets.Dropdown()\n",
        "\n",
        "# create the button to plot the connection profile\n",
        "connectionButton = widgets.Button(\n",
        "  description = 'Display Profile', \n",
        "  button_style='info'\n",
        ")\n",
        "\n",
        "# Display the input form\n",
        "print('Enter the FieldTwin project settings\\n')\n",
        "display(\n",
        "  apiUrlInput, \n",
        "  tokenInput, \n",
        "  projectIdInput, \n",
        "  subprojectIdInput, \n",
        ")"
      ],
      "metadata": {
        "colab": {
          "base_uri": "https://localhost:8080/",
          "height": 175,
          "referenced_widgets": [
            "7b49737673614f13a2984c834987c197",
            "99fbdd6eb48c478481c69bf93fc28e38",
            "de133bb12aba444a94cfb0289ede6dce",
            "4926c8ca1e034ed9b46a42b09edf3b77",
            "19e4e17b56424449ac8790e2b3e412c2",
            "c5d00c5169db4ce68856b2c42d08cc22",
            "c04ce0b4e93c4da8b72e0e2a14f229d8",
            "8babf1846a12475c805fd6527c428d63",
            "5869fdc6457946e99334206485d22674",
            "91e5a60760bb48cf93ab5dc799ae3253",
            "b5443046f8654ba3950dfc8e8af10308",
            "7e2d82dee6844779838ed089b4901f90"
          ]
        },
        "cellView": "form",
        "id": "jPCoNPPqgv17",
        "outputId": "444da99b-0c95-4873-e9cf-d36e5cbb06c7"
      },
      "execution_count": 122,
      "outputs": [
        {
          "output_type": "stream",
          "name": "stdout",
          "text": [
            "Enter the FieldTwin project settings\n",
            "\n"
          ]
        },
        {
          "output_type": "display_data",
          "data": {
            "text/plain": [
              "Text(value='https://backend.qa.fieldtwin.com/API/v1.9/', description='API:', layout=Layout(width='25rem'), pla…"
            ],
            "application/vnd.jupyter.widget-view+json": {
              "version_major": 2,
              "version_minor": 0,
              "model_id": "7b49737673614f13a2984c834987c197"
            }
          },
          "metadata": {}
        },
        {
          "output_type": "display_data",
          "data": {
            "text/plain": [
              "Password(description='Token', placeholder='Enter API Token')"
            ],
            "application/vnd.jupyter.widget-view+json": {
              "version_major": 2,
              "version_minor": 0,
              "model_id": "4926c8ca1e034ed9b46a42b09edf3b77"
            }
          },
          "metadata": {}
        },
        {
          "output_type": "display_data",
          "data": {
            "text/plain": [
              "Text(value='-M-HHqMifhz6qskW2goc', description='Project:', placeholder='-M-HHqMifhz6qskW2goc')"
            ],
            "application/vnd.jupyter.widget-view+json": {
              "version_major": 2,
              "version_minor": 0,
              "model_id": "c04ce0b4e93c4da8b72e0e2a14f229d8"
            }
          },
          "metadata": {}
        },
        {
          "output_type": "display_data",
          "data": {
            "text/plain": [
              "Text(value='-M-HI0DPuadaK9GLCWzR', description='SubProject:', placeholder='-M-HI0DPuadaK9GLCWzR')"
            ],
            "application/vnd.jupyter.widget-view+json": {
              "version_major": 2,
              "version_minor": 0,
              "model_id": "91e5a60760bb48cf93ab5dc799ae3253"
            }
          },
          "metadata": {}
        }
      ]
    },
    {
      "cell_type": "markdown",
      "source": [
        "The code below sends an API GET request to load the subproject data."
      ],
      "metadata": {
        "id": "ZywtAyC0jJvK"
      }
    },
    {
      "cell_type": "code",
      "source": [
        "#@title Load the subproject\n",
        "\n",
        "# The FieldTwin subproject data\n",
        "subproject = {}\n",
        "connections = []\n",
        "connectionList = []\n",
        "\n",
        "# configure the subproject button action\n",
        "display(subprojectButton)\n",
        "@subprojectButton.on_click\n",
        "def onSubprojectClick(b):\n",
        "  global subproject \n",
        "  global connections\n",
        "  global connectionList\n",
        "\n",
        "  # set up the API request\n",
        "  apiUrl = apiUrlInput.value\n",
        "  apiToken = tokenInput.value\n",
        "  projectId = projectIdInput.value\n",
        "  subprojectId = subprojectIdInput.value\n",
        "\n",
        "  if apiToken:\n",
        "    print('\\nLoading ...\\n')\n",
        "\n",
        "    # retrieve the subproject data using the FieldTwin API\n",
        "    response = requests.get(\n",
        "      f'{apiUrl}{projectId}/subProject/{subprojectId}',\n",
        "      headers={\n",
        "        'token': apiToken,\n",
        "        'sample-every': '1',\n",
        "        'simplify': 'true',\n",
        "      }\n",
        "    )\n",
        "    subproject = response.json()\n",
        "\n",
        "    print(f\"Loaded subproject: {subproject['name']}\")\n",
        "\n",
        "    # get list of connections from the loaded subproject data\n",
        "    if 'connections' in subproject:\n",
        "      connections = subproject['connections']\n",
        "\n",
        "      # extract a list of connections\n",
        "      connectionList = []\n",
        "      for connectionId in connections:\n",
        "        connection = connections[connectionId]\n",
        "        item = {\n",
        "          'name': connection['params']['label'], \n",
        "          'id': connectionId\n",
        "        }\n",
        "        connectionList.append(item)\n",
        "\n",
        "        # populate the connection selection menu\n",
        "        connectionSelect.options = [item['name'] for item in connectionList]\n",
        "\n",
        "  else:\n",
        "    print('API access token must be entered')\n"
      ],
      "metadata": {
        "colab": {
          "base_uri": "https://localhost:8080/",
          "height": 49,
          "referenced_widgets": [
            "07fcc6365a8b4483b9d27a3643fc8e62",
            "5e01080aa689481bb80998e60837d164",
            "1248b93d764e4cc48d5de94703c5ef89"
          ]
        },
        "id": "lpObroYrHuRm",
        "outputId": "641344b7-f2a4-4982-a060-c81a7f5e7562",
        "cellView": "form"
      },
      "execution_count": 123,
      "outputs": [
        {
          "output_type": "display_data",
          "data": {
            "text/plain": [
              "Button(button_style='info', description='Load SubProject', style=ButtonStyle())"
            ],
            "application/vnd.jupyter.widget-view+json": {
              "version_major": 2,
              "version_minor": 0,
              "model_id": "07fcc6365a8b4483b9d27a3643fc8e62"
            }
          },
          "metadata": {}
        }
      ]
    },
    {
      "cell_type": "markdown",
      "source": [
        "The code below displays the connection selection menu and provides a button.   \n",
        "to generate the connection profile plot."
      ],
      "metadata": {
        "id": "FvtUo7aelMNf"
      }
    },
    {
      "cell_type": "code",
      "source": [
        "#@title Plot connection profile\n",
        "import math\n",
        "import matplotlib.pyplot as plotter\n",
        "from matplotlib.pyplot import figure\n",
        "\n",
        "# display the connection selection UI\n",
        "print('Select connection')\n",
        "display(connectionSelect, connectionButton)\n",
        "\n",
        "@connectionButton.on_click\n",
        "def onConnectionClick(b):\n",
        "  global connections\n",
        "  global connectionList\n",
        "\n",
        "  if len(connectionList) > 0:\n",
        "    # obtain the id of the selected connection\n",
        "    item = connectionList[connectionSelect.index]\n",
        "    connectionId = item['id']\n",
        "\n",
        "    # get the selected connection data\n",
        "    connectionData = connections[connectionId]\n",
        "\n",
        "    # obtain the connection coordinate points\n",
        "    points = []\n",
        "    points.append(connectionData['fromCoordinate'])\n",
        "\n",
        "    if 'sampled' in connectionData:\n",
        "      # use the sampled connection data if it is available\n",
        "      points = connectionData['sampled']\n",
        "    elif 'intermediaryPoints' in connectionData:\n",
        "      # otherwise use the intermediary points\n",
        "      points = connectionData['intermediaryPoints']\n",
        "      points.append(connectionData['toCoordinate'])\n",
        "\n",
        "    # print(points)\n",
        "\n",
        "    # calculate the distance vs depth profile for the connection\n",
        "    profileDistance = []\n",
        "    profileDepth = []\n",
        "    distance = 0\n",
        "    x0 = points[0]['x']\n",
        "    y0 = points[0]['y']\n",
        "    for point in points:\n",
        "      x1 = point['x']\n",
        "      y1 = point['y']\n",
        "      z = point['z']\n",
        "      # accumulate the along connection distance\n",
        "      distance += math.hypot((x1-x0), (y1-y0))\n",
        "      x0 = x1\n",
        "      y0 = y1\n",
        "      profileDistance.append(distance)\n",
        "      profileDepth.append(z)\n",
        "\n",
        "    # Plot the profile\n",
        "    print()\n",
        "    unit = subproject['coordinateUnits']\n",
        "    plotter.plot(profileDistance, profileDepth, c = '#0080C0')\n",
        "    plotter.title(f\"{item['name']} Connection Profile\")\n",
        "    plotter.xlabel(f'Distance along connection ({unit})')\n",
        "    plotter.ylabel(f'Depth ({unit})')\n",
        "    plotter.figure(figsize=(16,4))"
      ],
      "metadata": {
        "colab": {
          "base_uri": "https://localhost:8080/",
          "height": 99,
          "referenced_widgets": [
            "f28d0e2008244b7b8b39087602c1dcaf",
            "861b7b4c202d4f71a4dc9e9d2d9d90c1",
            "ee8210ea1e45436dba1a55c6bb58171f",
            "85d4c8d787d446d086432c8dc9ed777a",
            "65c0aa0c2ca74741b7bce6f9a451a469",
            "ea4b6e43f8864acf9249315b1fe68ee7"
          ]
        },
        "cellView": "form",
        "id": "bhUnlqaqgZo-",
        "outputId": "1ef0282d-1222-42b3-bcc4-e9a6597a9ea5"
      },
      "execution_count": 124,
      "outputs": [
        {
          "output_type": "stream",
          "name": "stdout",
          "text": [
            "Select connection\n"
          ]
        },
        {
          "output_type": "display_data",
          "data": {
            "text/plain": [
              "Dropdown(options=(), value=None)"
            ],
            "application/vnd.jupyter.widget-view+json": {
              "version_major": 2,
              "version_minor": 0,
              "model_id": "f28d0e2008244b7b8b39087602c1dcaf"
            }
          },
          "metadata": {}
        },
        {
          "output_type": "display_data",
          "data": {
            "text/plain": [
              "Button(button_style='info', description='Display Profile', style=ButtonStyle())"
            ],
            "application/vnd.jupyter.widget-view+json": {
              "version_major": 2,
              "version_minor": 0,
              "model_id": "85d4c8d787d446d086432c8dc9ed777a"
            }
          },
          "metadata": {}
        }
      ]
    }
  ]
}