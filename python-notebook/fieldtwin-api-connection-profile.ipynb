{
 "cells": [
  {
   "cell_type": "markdown",
   "metadata": {
    "id": "QchwaBShHJMJ"
   },
   "source": [
    "# FieldTwin API - Python example plotting connection profile\n",
    "\n",
    "This python notebook provides an example demo of using the FieldTwin API.   \n",
    "See the API documentation (https://api.fieldtwin.com/).\n",
    "\n",
    "The example creates an input form to enter the FieldTwin project and subproject     \n",
    "and loads the subproject data using the FieldTwin API.\n",
    "\n",
    "A connection can then be selected from the subproject connections       \n",
    "and its connection profile is plotted.\n",
    "\n",
    "</br>\n",
    "\n",
    "---\n",
    "The code below creates a form to input the FieldTwin API URL, the project id and subproject id.   \n",
    "The demo requires an API access token to be entered."
   ]
  },
  {
   "cell_type": "code",
   "execution_count": 1,
   "metadata": {
    "cellView": "form",
    "colab": {
     "base_uri": "https://localhost:8080/",
     "height": 175,
     "referenced_widgets": [
      "90de9788e0a34c6a80d97b15286813a2",
      "a3ac5e4e7e5d460ab3aba3676e5ae494",
      "00493a9567bd4374ae60d259b955d6d2",
      "93d83f8d36b940d7a4060333d479c90f",
      "8cab5b47662f4162a3562bb263200022",
      "dcdfe3fb9dc74e018f49fc63462a4994",
      "6fd76928e2054dc7998702db229d3ca1",
      "2b13f909eabf4ae485013f5d17f01a6c",
      "dae43317ed8f4fa0b6537eabd0231c8d",
      "11496a8d5c7e4840a107722955232b03",
      "08a63a09afcf458685085ffe6f3b5d33",
      "978a72ac5dbb43799acf04f9ff1a8a92"
     ]
    },
    "id": "jPCoNPPqgv17",
    "jupyter": {
     "source_hidden": true
    },
    "outputId": "7a173ef5-4498-42ae-b9fd-b9e05f7754d8",
    "scrolled": true
   },
   "outputs": [
    {
     "name": "stdout",
     "output_type": "stream",
     "text": [
      "\n",
      "Enter the FieldTwin project settings\n",
      "\n"
     ]
    },
    {
     "data": {
      "application/vnd.jupyter.widget-view+json": {
       "model_id": "a846b9afa210430e8bc4e4cc3fcf192a",
       "version_major": 2,
       "version_minor": 0
      },
      "text/plain": [
       "Text(value='https://backend.qa.fieldtwin.com/API/v1.10/', description='API:', layout=Layout(width='25rem'), pl…"
      ]
     },
     "metadata": {},
     "output_type": "display_data"
    },
    {
     "data": {
      "application/vnd.jupyter.widget-view+json": {
       "model_id": "26e84e6d922f45a09a53e586b3a8a0c3",
       "version_major": 2,
       "version_minor": 0
      },
      "text/plain": [
       "Password(description='Token', placeholder='Enter API Token')"
      ]
     },
     "metadata": {},
     "output_type": "display_data"
    },
    {
     "data": {
      "application/vnd.jupyter.widget-view+json": {
       "model_id": "2e3f2ea969f5406190ac987af0a27957",
       "version_major": 2,
       "version_minor": 0
      },
      "text/plain": [
       "Text(value='-M-HHqMifhz6qskW2goc', description='Project:', placeholder='-M-HHqMifhz6qskW2goc')"
      ]
     },
     "metadata": {},
     "output_type": "display_data"
    },
    {
     "data": {
      "application/vnd.jupyter.widget-view+json": {
       "model_id": "be0557135fca4d40a46e55ba7234374b",
       "version_major": 2,
       "version_minor": 0
      },
      "text/plain": [
       "Text(value='-M-HI0DPuadaK9GLCWzR', description='SubProject:', placeholder='-M-HI0DPuadaK9GLCWzR')"
      ]
     },
     "metadata": {},
     "output_type": "display_data"
    },
    {
     "name": "stdout",
     "output_type": "stream",
     "text": [
      "\n"
     ]
    }
   ],
   "source": [
    "#@title Create User Inputs\n",
    "import ipywidgets as widgets\n",
    "from IPython.display import display\n",
    "import requests\n",
    "import json\n",
    "\n",
    "# Create the user interface\n",
    "\n",
    "# API URL input\n",
    "api_url = 'https://backend.qa.fieldtwin.com/API/v1.10/'\n",
    "api_url_input = widgets.Text(\n",
    "  description = 'API:',\n",
    "  layout = widgets.Layout(width='25rem'),\n",
    "  value = api_url,\n",
    "  placeholder = api_url,\n",
    ")\n",
    "\n",
    "# API Token input\n",
    "token_input = widgets.Password(\n",
    "  description = 'Token',\n",
    "  value = '',\n",
    "  placeholder = 'Enter API Token',\n",
    ")\n",
    "\n",
    "# Project Id input\n",
    "project_id = '-M-HHqMifhz6qskW2goc'\n",
    "project_id_input = widgets.Text(\n",
    "  value = project_id,\n",
    "  placeholder = project_id,\n",
    "  description='Project:',\n",
    ")\n",
    "\n",
    "# Subproject Id input\n",
    "subproject_id = '-M-HI0DPuadaK9GLCWzR'\n",
    "subproject_id_input = widgets.Text(\n",
    "  description = 'SubProject:',\n",
    "  value = subproject_id,\n",
    "  placeholder = subproject_id,\n",
    ")\n",
    "\n",
    "# Load subproject button\n",
    "subproject_button = widgets.Button(\n",
    "  description = 'Load SubProject', \n",
    "  button_style='info'\n",
    ")\n",
    "\n",
    "# create connection dropdown menu\n",
    "connection_select = widgets.Dropdown()\n",
    "\n",
    "# create the button to plot the connection profile\n",
    "connection_button = widgets.Button(\n",
    "  description = 'Display Profile', \n",
    "  button_style='info'\n",
    ")\n",
    "\n",
    "# Display the input form\n",
    "print()\n",
    "print('Enter the FieldTwin project settings\\n')\n",
    "display(\n",
    "  api_url_input, \n",
    "  token_input, \n",
    "  project_id_input, \n",
    "  subproject_id_input, \n",
    ")\n",
    "print()"
   ]
  },
  {
   "cell_type": "markdown",
   "metadata": {
    "id": "ZywtAyC0jJvK"
   },
   "source": [
    "The code below sends an API GET request to load the subproject data."
   ]
  },
  {
   "cell_type": "code",
   "execution_count": 2,
   "metadata": {
    "cellView": "form",
    "colab": {
     "base_uri": "https://localhost:8080/",
     "height": 120,
     "referenced_widgets": [
      "e095724a312b4e8f9264c47e36372ed4",
      "e6569a63aeec4c799148a5999e5967f5",
      "7c22a11b4b594e49b12b706a5eef8940"
     ]
    },
    "id": "lpObroYrHuRm",
    "jupyter": {
     "source_hidden": true
    },
    "outputId": "417e3805-5265-49d4-dff3-1514e057403d"
   },
   "outputs": [
    {
     "data": {
      "application/vnd.jupyter.widget-view+json": {
       "model_id": "5a88ccdef3ff477a8f6bd4f4762db8c7",
       "version_major": 2,
       "version_minor": 0
      },
      "text/plain": [
       "Button(button_style='info', description='Load SubProject', style=ButtonStyle())"
      ]
     },
     "metadata": {},
     "output_type": "display_data"
    },
    {
     "data": {
      "application/vnd.jupyter.widget-view+json": {
       "model_id": "b4f4890e0756472caaa9162d92821e8e",
       "version_major": 2,
       "version_minor": 0
      },
      "text/plain": [
       "Output()"
      ]
     },
     "metadata": {},
     "output_type": "display_data"
    }
   ],
   "source": [
    "#@title Load the subproject\n",
    "\n",
    "# The FieldTwin subproject data\n",
    "subproject = {}\n",
    "connections = []\n",
    "connection_list = []\n",
    "out_api = widgets.Output()\n",
    "\n",
    "# configure the subproject button action\n",
    "display(subproject_button, out_api)\n",
    "\n",
    "@subproject_button.on_click\n",
    "def on_subproject_click(b):\n",
    "  global subproject \n",
    "  global connections\n",
    "  global connection_list\n",
    "\n",
    "  # set up the API request\n",
    "  api_url = api_url_input.value\n",
    "  api_token = token_input.value\n",
    "  project_id = project_id_input.value\n",
    "  subproject_id = subproject_id_input.value\n",
    "\n",
    "  if api_token == '':\n",
    "    out_api.clear_output()\n",
    "    with out_api:\n",
    "      print('\\nError: API access token must be entered.\\n')\n",
    "      return\n",
    "\n",
    "  # retrieve the subproject data using the FieldTwin API\n",
    "  out_api.clear_output()\n",
    "  with out_api:\n",
    "    print('\\nLoading ...\\n')\n",
    "\n",
    "  response = requests.get(\n",
    "    f'{api_url}{project_id}/subProject/{subproject_id}',\n",
    "    headers={\n",
    "      'token': api_token,\n",
    "      # request the connection is sampled every 1 unit\n",
    "      'sample-every': '1',\n",
    "      # set the sample method to simplify to significantly reduce the sampled data size\n",
    "      'simplify': 'true',\n",
    "    }\n",
    "  )\n",
    "\n",
    "  # check for any API fialures\n",
    "  if (response.status_code != requests.codes.ok):\n",
    "    with out_api:\n",
    "      print('API request failed: ', response.status_code)\n",
    "      return\n",
    "\n",
    "  # request is successful, read the subproject data\n",
    "  subproject = response.json()\n",
    "\n",
    "  with out_api:\n",
    "    print('API request success: ', response.status_code)\n",
    "\n",
    "  # get list of connections from the loaded subproject data\n",
    "  if 'connections' in subproject:\n",
    "    connections = subproject['connections']\n",
    "\n",
    "    # extract a list of connections\n",
    "    connection_list = []\n",
    "    for connection_id in connections:\n",
    "      connection = connections[connection_id]\n",
    "      label = connection.get('params', {}).get('label', 'Un-named Connection')\n",
    "      item = {\n",
    "        'name': label, \n",
    "        'id': connection_id\n",
    "      }\n",
    "      connection_list.append(item)\n",
    "\n",
    "      # populate the connection selection menu\n",
    "      connection_select.options = [item['name'] for item in connection_list]\n",
    "\n",
    "  return\n"
   ]
  },
  {
   "cell_type": "markdown",
   "metadata": {
    "id": "FvtUo7aelMNf"
   },
   "source": [
    "The code below displays the connection selection menu and provides a button.   \n",
    "to generate the connection profile plot."
   ]
  },
  {
   "cell_type": "code",
   "execution_count": 3,
   "metadata": {
    "cellView": "form",
    "colab": {
     "base_uri": "https://localhost:8080/",
     "height": 445,
     "referenced_widgets": [
      "2b7b3c71894c47dca2074127d6000a74",
      "efb18bb8977f4416ab1789443d305105",
      "f2b57669daac40aca49e018633898f8b",
      "12f4035773e146d0aa1e4cd111bccaca",
      "e6228ae7b31a4504882889ff5d3f4c3b",
      "a99257ec8bf54979836b6988a4e2cfe6"
     ]
    },
    "id": "bhUnlqaqgZo-",
    "jupyter": {
     "source_hidden": true
    },
    "outputId": "b7606943-0583-4246-ddf5-39d78ddc144c",
    "scrolled": true
   },
   "outputs": [
    {
     "name": "stdout",
     "output_type": "stream",
     "text": [
      "\n",
      "Select connection\n",
      "\n"
     ]
    },
    {
     "data": {
      "application/vnd.jupyter.widget-view+json": {
       "model_id": "d45564e13ce3486994ceb3827c6fb033",
       "version_major": 2,
       "version_minor": 0
      },
      "text/plain": [
       "Dropdown(options=(), value=None)"
      ]
     },
     "metadata": {},
     "output_type": "display_data"
    },
    {
     "data": {
      "application/vnd.jupyter.widget-view+json": {
       "model_id": "0ba72f52ad9948c486801888a4fa2672",
       "version_major": 2,
       "version_minor": 0
      },
      "text/plain": [
       "Button(button_style='info', description='Display Profile', style=ButtonStyle())"
      ]
     },
     "metadata": {},
     "output_type": "display_data"
    },
    {
     "data": {
      "application/vnd.jupyter.widget-view+json": {
       "model_id": "04c159c891c843beb82826fd62852df2",
       "version_major": 2,
       "version_minor": 0
      },
      "text/plain": [
       "Output()"
      ]
     },
     "metadata": {},
     "output_type": "display_data"
    }
   ],
   "source": [
    "#@title Plot connection profile\n",
    "import math\n",
    "import matplotlib.pyplot as plotter\n",
    "from matplotlib.pyplot import figure\n",
    "\n",
    "out_connection = widgets.Output()\n",
    "\n",
    "# display the connection selection UI\n",
    "print('\\nSelect connection\\n')\n",
    "display(connection_select, connection_button, out_connection)\n",
    "\n",
    "@connection_button.on_click\n",
    "def on_connection_click(b):\n",
    "  global connections\n",
    "  global connection_list\n",
    "\n",
    "  if len(connection_list) > 0:\n",
    "    # obtain the id of the selected connection\n",
    "    item = connection_list[connection_select.index]\n",
    "    connection_id = item['id']\n",
    "\n",
    "    # get the selected connection data\n",
    "    connection_data = connections[connection_id]\n",
    "\n",
    "    # obtain the connection coordinate points\n",
    "    points = []\n",
    "    points.append(connection_data['fromCoordinate'])\n",
    "\n",
    "    if 'sampled' in connection_data:\n",
    "      # use the sampled connection data if it is available\n",
    "      points = connection_data['sampled']\n",
    "    elif 'intermediaryPoints' in connection_data:\n",
    "      # otherwise use the intermediary points\n",
    "      points = connection_data['intermediaryPoints']\n",
    "      points.append(connection_data['toCoordinate'])\n",
    "\n",
    "    # print(points)\n",
    "\n",
    "    # calculate the distance vs depth profile for the connection\n",
    "    profile_distance = []\n",
    "    profile_depth = []\n",
    "    distance = 0\n",
    "    x0 = points[0]['x']\n",
    "    y0 = points[0]['y']\n",
    "    for point in points:\n",
    "      x1 = point['x']\n",
    "      y1 = point['y']\n",
    "      z = point['z']\n",
    "      # accumulate the along connection distance\n",
    "      distance += math.hypot((x1-x0), (y1-y0))\n",
    "      x0 = x1\n",
    "      y0 = y1\n",
    "      profile_distance.append(distance)\n",
    "      profile_depth.append(z)\n",
    "\n",
    "    out_connection.clear_output()\n",
    "    with out_connection:\n",
    "      # Plot the profile\n",
    "      print()\n",
    "      unit = subproject['coordinateUnits']\n",
    "      # set the plot styling and size\n",
    "      plotter.style.use('ggplot')\n",
    "      plotter.figure(figsize=(10,5))\n",
    "      # plot the profile\n",
    "      plotter.plot(profile_distance, profile_depth, c = '#0080C0')\n",
    "      # set the plot title and axes labels\n",
    "      plotter.title(f\"{item['name']} Connection Profile\")\n",
    "      plotter.xlabel(f'Distance along connection ({unit})')\n",
    "      plotter.ylabel(f'Depth ({unit})')\n",
    "      plotter.show()"
   ]
  },
  {
   "cell_type": "code",
   "execution_count": null,
   "metadata": {
    "jupyter": {
     "source_hidden": true
    }
   },
   "outputs": [],
   "source": []
  }
 ],
 "metadata": {
  "colab": {
   "provenance": []
  },
  "kernelspec": {
   "display_name": "Python 3 (ipykernel)",
   "language": "python",
   "name": "python3"
  },
  "language_info": {
   "codemirror_mode": {
    "name": "ipython",
    "version": 3
   },
   "file_extension": ".py",
   "mimetype": "text/x-python",
   "name": "python",
   "nbconvert_exporter": "python",
   "pygments_lexer": "ipython3",
   "version": "3.10.11"
  },
  "vscode": {
   "interpreter": {
    "hash": "489b69812d91cdc4512ad4938c8ece31726e620dd339f4636940385714e77ad4"
   }
  },
  "widgets": {
   "application/vnd.jupyter.widget-state+json": {
    "00493a9567bd4374ae60d259b955d6d2": {
     "model_module": "@jupyter-widgets/controls",
     "model_module_version": "1.5.0",
     "model_name": "DescriptionStyleModel",
     "state": {
      "_model_module": "@jupyter-widgets/controls",
      "_model_module_version": "1.5.0",
      "_model_name": "DescriptionStyleModel",
      "_view_count": null,
      "_view_module": "@jupyter-widgets/base",
      "_view_module_version": "1.2.0",
      "_view_name": "StyleView",
      "description_width": ""
     }
    },
    "08a63a09afcf458685085ffe6f3b5d33": {
     "model_module": "@jupyter-widgets/base",
     "model_module_version": "1.2.0",
     "model_name": "LayoutModel",
     "state": {
      "_model_module": "@jupyter-widgets/base",
      "_model_module_version": "1.2.0",
      "_model_name": "LayoutModel",
      "_view_count": null,
      "_view_module": "@jupyter-widgets/base",
      "_view_module_version": "1.2.0",
      "_view_name": "LayoutView",
      "align_content": null,
      "align_items": null,
      "align_self": null,
      "border": null,
      "bottom": null,
      "display": null,
      "flex": null,
      "flex_flow": null,
      "grid_area": null,
      "grid_auto_columns": null,
      "grid_auto_flow": null,
      "grid_auto_rows": null,
      "grid_column": null,
      "grid_gap": null,
      "grid_row": null,
      "grid_template_areas": null,
      "grid_template_columns": null,
      "grid_template_rows": null,
      "height": null,
      "justify_content": null,
      "justify_items": null,
      "left": null,
      "margin": null,
      "max_height": null,
      "max_width": null,
      "min_height": null,
      "min_width": null,
      "object_fit": null,
      "object_position": null,
      "order": null,
      "overflow": null,
      "overflow_x": null,
      "overflow_y": null,
      "padding": null,
      "right": null,
      "top": null,
      "visibility": null,
      "width": null
     }
    },
    "11496a8d5c7e4840a107722955232b03": {
     "model_module": "@jupyter-widgets/controls",
     "model_module_version": "1.5.0",
     "model_name": "TextModel",
     "state": {
      "_dom_classes": [],
      "_model_module": "@jupyter-widgets/controls",
      "_model_module_version": "1.5.0",
      "_model_name": "TextModel",
      "_view_count": null,
      "_view_module": "@jupyter-widgets/controls",
      "_view_module_version": "1.5.0",
      "_view_name": "TextView",
      "continuous_update": true,
      "description": "SubProject:",
      "description_tooltip": null,
      "disabled": false,
      "layout": "IPY_MODEL_08a63a09afcf458685085ffe6f3b5d33",
      "placeholder": "-M-HI0DPuadaK9GLCWzR",
      "style": "IPY_MODEL_978a72ac5dbb43799acf04f9ff1a8a92",
      "value": "-M-HI0DPuadaK9GLCWzR"
     }
    },
    "12f4035773e146d0aa1e4cd111bccaca": {
     "model_module": "@jupyter-widgets/controls",
     "model_module_version": "1.5.0",
     "model_name": "ButtonModel",
     "state": {
      "_dom_classes": [],
      "_model_module": "@jupyter-widgets/controls",
      "_model_module_version": "1.5.0",
      "_model_name": "ButtonModel",
      "_view_count": null,
      "_view_module": "@jupyter-widgets/controls",
      "_view_module_version": "1.5.0",
      "_view_name": "ButtonView",
      "button_style": "info",
      "description": "Display Profile",
      "disabled": false,
      "icon": "",
      "layout": "IPY_MODEL_e6228ae7b31a4504882889ff5d3f4c3b",
      "style": "IPY_MODEL_a99257ec8bf54979836b6988a4e2cfe6",
      "tooltip": ""
     }
    },
    "2b13f909eabf4ae485013f5d17f01a6c": {
     "model_module": "@jupyter-widgets/base",
     "model_module_version": "1.2.0",
     "model_name": "LayoutModel",
     "state": {
      "_model_module": "@jupyter-widgets/base",
      "_model_module_version": "1.2.0",
      "_model_name": "LayoutModel",
      "_view_count": null,
      "_view_module": "@jupyter-widgets/base",
      "_view_module_version": "1.2.0",
      "_view_name": "LayoutView",
      "align_content": null,
      "align_items": null,
      "align_self": null,
      "border": null,
      "bottom": null,
      "display": null,
      "flex": null,
      "flex_flow": null,
      "grid_area": null,
      "grid_auto_columns": null,
      "grid_auto_flow": null,
      "grid_auto_rows": null,
      "grid_column": null,
      "grid_gap": null,
      "grid_row": null,
      "grid_template_areas": null,
      "grid_template_columns": null,
      "grid_template_rows": null,
      "height": null,
      "justify_content": null,
      "justify_items": null,
      "left": null,
      "margin": null,
      "max_height": null,
      "max_width": null,
      "min_height": null,
      "min_width": null,
      "object_fit": null,
      "object_position": null,
      "order": null,
      "overflow": null,
      "overflow_x": null,
      "overflow_y": null,
      "padding": null,
      "right": null,
      "top": null,
      "visibility": null,
      "width": null
     }
    },
    "2b7b3c71894c47dca2074127d6000a74": {
     "model_module": "@jupyter-widgets/controls",
     "model_module_version": "1.5.0",
     "model_name": "DropdownModel",
     "state": {
      "_dom_classes": [],
      "_model_module": "@jupyter-widgets/controls",
      "_model_module_version": "1.5.0",
      "_model_name": "DropdownModel",
      "_options_labels": [
       "Water Injection #1",
       "Umbilical #9",
       "Umbilical #1",
       "Oil Production #2",
       "MEG #12",
       "Umbilical #2",
       "Oil Production #3",
       "Hydraulic Lead #1",
       "Umbilical #3",
       "Umbilical #4",
       "Umbilical #5",
       "Umbilical #6",
       "Hydraulic Lead #2",
       "Water Injection #2",
       "Oil Production #5",
       "Oil Production #6",
       "Oil Production #7",
       "Oil Production #4",
       "Umbilical #8",
       "Umbilical #1",
       "Umbilical #1",
       "Oil Production #33",
       "Oil Production #8",
       "Umbilical #12",
       "Umbilical #13",
       "Umbilical #14"
      ],
      "_view_count": null,
      "_view_module": "@jupyter-widgets/controls",
      "_view_module_version": "1.5.0",
      "_view_name": "DropdownView",
      "description": "",
      "description_tooltip": null,
      "disabled": false,
      "index": 21,
      "layout": "IPY_MODEL_efb18bb8977f4416ab1789443d305105",
      "style": "IPY_MODEL_f2b57669daac40aca49e018633898f8b"
     }
    },
    "6fd76928e2054dc7998702db229d3ca1": {
     "model_module": "@jupyter-widgets/controls",
     "model_module_version": "1.5.0",
     "model_name": "TextModel",
     "state": {
      "_dom_classes": [],
      "_model_module": "@jupyter-widgets/controls",
      "_model_module_version": "1.5.0",
      "_model_name": "TextModel",
      "_view_count": null,
      "_view_module": "@jupyter-widgets/controls",
      "_view_module_version": "1.5.0",
      "_view_name": "TextView",
      "continuous_update": true,
      "description": "Project:",
      "description_tooltip": null,
      "disabled": false,
      "layout": "IPY_MODEL_2b13f909eabf4ae485013f5d17f01a6c",
      "placeholder": "-M-HHqMifhz6qskW2goc",
      "style": "IPY_MODEL_dae43317ed8f4fa0b6537eabd0231c8d",
      "value": "-M-HHqMifhz6qskW2goc"
     }
    },
    "7c22a11b4b594e49b12b706a5eef8940": {
     "model_module": "@jupyter-widgets/controls",
     "model_module_version": "1.5.0",
     "model_name": "ButtonStyleModel",
     "state": {
      "_model_module": "@jupyter-widgets/controls",
      "_model_module_version": "1.5.0",
      "_model_name": "ButtonStyleModel",
      "_view_count": null,
      "_view_module": "@jupyter-widgets/base",
      "_view_module_version": "1.2.0",
      "_view_name": "StyleView",
      "button_color": null,
      "font_weight": ""
     }
    },
    "8cab5b47662f4162a3562bb263200022": {
     "model_module": "@jupyter-widgets/base",
     "model_module_version": "1.2.0",
     "model_name": "LayoutModel",
     "state": {
      "_model_module": "@jupyter-widgets/base",
      "_model_module_version": "1.2.0",
      "_model_name": "LayoutModel",
      "_view_count": null,
      "_view_module": "@jupyter-widgets/base",
      "_view_module_version": "1.2.0",
      "_view_name": "LayoutView",
      "align_content": null,
      "align_items": null,
      "align_self": null,
      "border": null,
      "bottom": null,
      "display": null,
      "flex": null,
      "flex_flow": null,
      "grid_area": null,
      "grid_auto_columns": null,
      "grid_auto_flow": null,
      "grid_auto_rows": null,
      "grid_column": null,
      "grid_gap": null,
      "grid_row": null,
      "grid_template_areas": null,
      "grid_template_columns": null,
      "grid_template_rows": null,
      "height": null,
      "justify_content": null,
      "justify_items": null,
      "left": null,
      "margin": null,
      "max_height": null,
      "max_width": null,
      "min_height": null,
      "min_width": null,
      "object_fit": null,
      "object_position": null,
      "order": null,
      "overflow": null,
      "overflow_x": null,
      "overflow_y": null,
      "padding": null,
      "right": null,
      "top": null,
      "visibility": null,
      "width": null
     }
    },
    "90de9788e0a34c6a80d97b15286813a2": {
     "model_module": "@jupyter-widgets/controls",
     "model_module_version": "1.5.0",
     "model_name": "TextModel",
     "state": {
      "_dom_classes": [],
      "_model_module": "@jupyter-widgets/controls",
      "_model_module_version": "1.5.0",
      "_model_name": "TextModel",
      "_view_count": null,
      "_view_module": "@jupyter-widgets/controls",
      "_view_module_version": "1.5.0",
      "_view_name": "TextView",
      "continuous_update": true,
      "description": "API:",
      "description_tooltip": null,
      "disabled": false,
      "layout": "IPY_MODEL_a3ac5e4e7e5d460ab3aba3676e5ae494",
      "placeholder": "https://backend.qa.fieldtwin.com/API/v1.9/",
      "style": "IPY_MODEL_00493a9567bd4374ae60d259b955d6d2",
      "value": "https://backend.qa.fieldtwin.com/API/v1.9/"
     }
    },
    "93d83f8d36b940d7a4060333d479c90f": {
     "model_module": "@jupyter-widgets/controls",
     "model_module_version": "1.5.0",
     "model_name": "PasswordModel",
     "state": {
      "_dom_classes": [],
      "_model_module": "@jupyter-widgets/controls",
      "_model_module_version": "1.5.0",
      "_model_name": "PasswordModel",
      "_view_count": null,
      "_view_module": "@jupyter-widgets/controls",
      "_view_module_version": "1.5.0",
      "_view_name": "PasswordView",
      "continuous_update": true,
      "description": "Token",
      "description_tooltip": null,
      "disabled": false,
      "layout": "IPY_MODEL_8cab5b47662f4162a3562bb263200022",
      "placeholder": "Enter API Token",
      "style": "IPY_MODEL_dcdfe3fb9dc74e018f49fc63462a4994",
      "value": "ed26d814-b660-40da-83f3-061ed48aa29e"
     }
    },
    "978a72ac5dbb43799acf04f9ff1a8a92": {
     "model_module": "@jupyter-widgets/controls",
     "model_module_version": "1.5.0",
     "model_name": "DescriptionStyleModel",
     "state": {
      "_model_module": "@jupyter-widgets/controls",
      "_model_module_version": "1.5.0",
      "_model_name": "DescriptionStyleModel",
      "_view_count": null,
      "_view_module": "@jupyter-widgets/base",
      "_view_module_version": "1.2.0",
      "_view_name": "StyleView",
      "description_width": ""
     }
    },
    "a3ac5e4e7e5d460ab3aba3676e5ae494": {
     "model_module": "@jupyter-widgets/base",
     "model_module_version": "1.2.0",
     "model_name": "LayoutModel",
     "state": {
      "_model_module": "@jupyter-widgets/base",
      "_model_module_version": "1.2.0",
      "_model_name": "LayoutModel",
      "_view_count": null,
      "_view_module": "@jupyter-widgets/base",
      "_view_module_version": "1.2.0",
      "_view_name": "LayoutView",
      "align_content": null,
      "align_items": null,
      "align_self": null,
      "border": null,
      "bottom": null,
      "display": null,
      "flex": null,
      "flex_flow": null,
      "grid_area": null,
      "grid_auto_columns": null,
      "grid_auto_flow": null,
      "grid_auto_rows": null,
      "grid_column": null,
      "grid_gap": null,
      "grid_row": null,
      "grid_template_areas": null,
      "grid_template_columns": null,
      "grid_template_rows": null,
      "height": null,
      "justify_content": null,
      "justify_items": null,
      "left": null,
      "margin": null,
      "max_height": null,
      "max_width": null,
      "min_height": null,
      "min_width": null,
      "object_fit": null,
      "object_position": null,
      "order": null,
      "overflow": null,
      "overflow_x": null,
      "overflow_y": null,
      "padding": null,
      "right": null,
      "top": null,
      "visibility": null,
      "width": "25rem"
     }
    },
    "a99257ec8bf54979836b6988a4e2cfe6": {
     "model_module": "@jupyter-widgets/controls",
     "model_module_version": "1.5.0",
     "model_name": "ButtonStyleModel",
     "state": {
      "_model_module": "@jupyter-widgets/controls",
      "_model_module_version": "1.5.0",
      "_model_name": "ButtonStyleModel",
      "_view_count": null,
      "_view_module": "@jupyter-widgets/base",
      "_view_module_version": "1.2.0",
      "_view_name": "StyleView",
      "button_color": null,
      "font_weight": ""
     }
    },
    "dae43317ed8f4fa0b6537eabd0231c8d": {
     "model_module": "@jupyter-widgets/controls",
     "model_module_version": "1.5.0",
     "model_name": "DescriptionStyleModel",
     "state": {
      "_model_module": "@jupyter-widgets/controls",
      "_model_module_version": "1.5.0",
      "_model_name": "DescriptionStyleModel",
      "_view_count": null,
      "_view_module": "@jupyter-widgets/base",
      "_view_module_version": "1.2.0",
      "_view_name": "StyleView",
      "description_width": ""
     }
    },
    "dcdfe3fb9dc74e018f49fc63462a4994": {
     "model_module": "@jupyter-widgets/controls",
     "model_module_version": "1.5.0",
     "model_name": "DescriptionStyleModel",
     "state": {
      "_model_module": "@jupyter-widgets/controls",
      "_model_module_version": "1.5.0",
      "_model_name": "DescriptionStyleModel",
      "_view_count": null,
      "_view_module": "@jupyter-widgets/base",
      "_view_module_version": "1.2.0",
      "_view_name": "StyleView",
      "description_width": ""
     }
    },
    "e095724a312b4e8f9264c47e36372ed4": {
     "model_module": "@jupyter-widgets/controls",
     "model_module_version": "1.5.0",
     "model_name": "ButtonModel",
     "state": {
      "_dom_classes": [],
      "_model_module": "@jupyter-widgets/controls",
      "_model_module_version": "1.5.0",
      "_model_name": "ButtonModel",
      "_view_count": null,
      "_view_module": "@jupyter-widgets/controls",
      "_view_module_version": "1.5.0",
      "_view_name": "ButtonView",
      "button_style": "info",
      "description": "Load SubProject",
      "disabled": false,
      "icon": "",
      "layout": "IPY_MODEL_e6569a63aeec4c799148a5999e5967f5",
      "style": "IPY_MODEL_7c22a11b4b594e49b12b706a5eef8940",
      "tooltip": ""
     }
    },
    "e6228ae7b31a4504882889ff5d3f4c3b": {
     "model_module": "@jupyter-widgets/base",
     "model_module_version": "1.2.0",
     "model_name": "LayoutModel",
     "state": {
      "_model_module": "@jupyter-widgets/base",
      "_model_module_version": "1.2.0",
      "_model_name": "LayoutModel",
      "_view_count": null,
      "_view_module": "@jupyter-widgets/base",
      "_view_module_version": "1.2.0",
      "_view_name": "LayoutView",
      "align_content": null,
      "align_items": null,
      "align_self": null,
      "border": null,
      "bottom": null,
      "display": null,
      "flex": null,
      "flex_flow": null,
      "grid_area": null,
      "grid_auto_columns": null,
      "grid_auto_flow": null,
      "grid_auto_rows": null,
      "grid_column": null,
      "grid_gap": null,
      "grid_row": null,
      "grid_template_areas": null,
      "grid_template_columns": null,
      "grid_template_rows": null,
      "height": null,
      "justify_content": null,
      "justify_items": null,
      "left": null,
      "margin": null,
      "max_height": null,
      "max_width": null,
      "min_height": null,
      "min_width": null,
      "object_fit": null,
      "object_position": null,
      "order": null,
      "overflow": null,
      "overflow_x": null,
      "overflow_y": null,
      "padding": null,
      "right": null,
      "top": null,
      "visibility": null,
      "width": null
     }
    },
    "e6569a63aeec4c799148a5999e5967f5": {
     "model_module": "@jupyter-widgets/base",
     "model_module_version": "1.2.0",
     "model_name": "LayoutModel",
     "state": {
      "_model_module": "@jupyter-widgets/base",
      "_model_module_version": "1.2.0",
      "_model_name": "LayoutModel",
      "_view_count": null,
      "_view_module": "@jupyter-widgets/base",
      "_view_module_version": "1.2.0",
      "_view_name": "LayoutView",
      "align_content": null,
      "align_items": null,
      "align_self": null,
      "border": null,
      "bottom": null,
      "display": null,
      "flex": null,
      "flex_flow": null,
      "grid_area": null,
      "grid_auto_columns": null,
      "grid_auto_flow": null,
      "grid_auto_rows": null,
      "grid_column": null,
      "grid_gap": null,
      "grid_row": null,
      "grid_template_areas": null,
      "grid_template_columns": null,
      "grid_template_rows": null,
      "height": null,
      "justify_content": null,
      "justify_items": null,
      "left": null,
      "margin": null,
      "max_height": null,
      "max_width": null,
      "min_height": null,
      "min_width": null,
      "object_fit": null,
      "object_position": null,
      "order": null,
      "overflow": null,
      "overflow_x": null,
      "overflow_y": null,
      "padding": null,
      "right": null,
      "top": null,
      "visibility": null,
      "width": null
     }
    },
    "efb18bb8977f4416ab1789443d305105": {
     "model_module": "@jupyter-widgets/base",
     "model_module_version": "1.2.0",
     "model_name": "LayoutModel",
     "state": {
      "_model_module": "@jupyter-widgets/base",
      "_model_module_version": "1.2.0",
      "_model_name": "LayoutModel",
      "_view_count": null,
      "_view_module": "@jupyter-widgets/base",
      "_view_module_version": "1.2.0",
      "_view_name": "LayoutView",
      "align_content": null,
      "align_items": null,
      "align_self": null,
      "border": null,
      "bottom": null,
      "display": null,
      "flex": null,
      "flex_flow": null,
      "grid_area": null,
      "grid_auto_columns": null,
      "grid_auto_flow": null,
      "grid_auto_rows": null,
      "grid_column": null,
      "grid_gap": null,
      "grid_row": null,
      "grid_template_areas": null,
      "grid_template_columns": null,
      "grid_template_rows": null,
      "height": null,
      "justify_content": null,
      "justify_items": null,
      "left": null,
      "margin": null,
      "max_height": null,
      "max_width": null,
      "min_height": null,
      "min_width": null,
      "object_fit": null,
      "object_position": null,
      "order": null,
      "overflow": null,
      "overflow_x": null,
      "overflow_y": null,
      "padding": null,
      "right": null,
      "top": null,
      "visibility": null,
      "width": null
     }
    },
    "f2b57669daac40aca49e018633898f8b": {
     "model_module": "@jupyter-widgets/controls",
     "model_module_version": "1.5.0",
     "model_name": "DescriptionStyleModel",
     "state": {
      "_model_module": "@jupyter-widgets/controls",
      "_model_module_version": "1.5.0",
      "_model_name": "DescriptionStyleModel",
      "_view_count": null,
      "_view_module": "@jupyter-widgets/base",
      "_view_module_version": "1.2.0",
      "_view_name": "StyleView",
      "description_width": ""
     }
    }
   }
  }
 },
 "nbformat": 4,
 "nbformat_minor": 4
}
