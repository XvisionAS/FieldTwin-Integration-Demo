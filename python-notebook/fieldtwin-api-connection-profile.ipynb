{
  "cells": [
    {
      "cell_type": "markdown",
      "metadata": {
        "id": "QchwaBShHJMJ"
      },
      "source": [
        "# FieldTwin API - Python example plotting connection profile\n",
        "\n",
        "This python notebook provides an example demo of using the FieldTwin API.   \n",
        "See the API documentation (https://api.fieldtwin.com/).\n",
        "\n",
        "The example creates an input form to enter the FieldTwin project and subproject     \n",
        "and loads the subproject data using the FieldTwin API.\n",
        "\n",
        "A connection can then be selected from the subproject connections       \n",
        "and its connection profile is plotted.\n",
        "\n",
        "</br>\n",
        "\n",
        "---\n",
        "The code below creates a form to input the FieldTwin API URL, the project id and subproject id.   \n",
        "The demo requires an API access token to be entered."
      ]
    },
    {
      "cell_type": "code",
      "execution_count": 19,
      "metadata": {
        "cellView": "form",
        "colab": {
          "base_uri": "https://localhost:8080/",
          "height": 175,
          "referenced_widgets": [
            "31d73096ff4a4eac9304854ffcdd517a",
            "26028b5029cc45f2a3a5019eb131e314",
            "7837f4207fcf4ab1acdbe0dfa2f589f0",
            "6e7c38f82a0243499f160f6e87cbe570",
            "31147d5622124575899fc162568cd195",
            "73c715460e9f4e27b9aea38604ec7383",
            "c6c5cc5087f84f70b82acfc4a6bbbba6",
            "8104de15c0bd4940a8207212a98a796a",
            "5f14d3887b6742b6912deebbe59f4825",
            "cd2f1eea2c844de9b50e618c516b40ed",
            "ed08246b98e44b4a8799eb4393590731",
            "10e1eec060d346a59c99786d6fb929be"
          ]
        },
        "id": "jPCoNPPqgv17",
        "outputId": "ac7aeb28-b452-4791-c676-e8ba06201ce8"
      },
      "outputs": [
        {
          "output_type": "stream",
          "name": "stdout",
          "text": [
            "Enter the FieldTwin project settings\n",
            "\n"
          ]
        },
        {
          "output_type": "display_data",
          "data": {
            "text/plain": [
              "Text(value='https://backend.qa.fieldtwin.com/API/v1.9/', description='API:', layout=Layout(width='25rem'), pla…"
            ],
            "application/vnd.jupyter.widget-view+json": {
              "version_major": 2,
              "version_minor": 0,
              "model_id": "31d73096ff4a4eac9304854ffcdd517a"
            }
          },
          "metadata": {}
        },
        {
          "output_type": "display_data",
          "data": {
            "text/plain": [
              "Password(description='Token', placeholder='Enter API Token')"
            ],
            "application/vnd.jupyter.widget-view+json": {
              "version_major": 2,
              "version_minor": 0,
              "model_id": "6e7c38f82a0243499f160f6e87cbe570"
            }
          },
          "metadata": {}
        },
        {
          "output_type": "display_data",
          "data": {
            "text/plain": [
              "Text(value='-M-HHqMifhz6qskW2goc', description='Project:', placeholder='-M-HHqMifhz6qskW2goc')"
            ],
            "application/vnd.jupyter.widget-view+json": {
              "version_major": 2,
              "version_minor": 0,
              "model_id": "c6c5cc5087f84f70b82acfc4a6bbbba6"
            }
          },
          "metadata": {}
        },
        {
          "output_type": "display_data",
          "data": {
            "text/plain": [
              "Text(value='-M-HI0DPuadaK9GLCWzR', description='SubProject:', placeholder='-M-HI0DPuadaK9GLCWzR')"
            ],
            "application/vnd.jupyter.widget-view+json": {
              "version_major": 2,
              "version_minor": 0,
              "model_id": "cd2f1eea2c844de9b50e618c516b40ed"
            }
          },
          "metadata": {}
        }
      ],
      "source": [
        "#@title Create User Inputs\n",
        "import ipywidgets as widgets\n",
        "from IPython.display import display\n",
        "import requests\n",
        "import json\n",
        "\n",
        "# Create the user interface\n",
        "\n",
        "# API URL input\n",
        "api_url = 'https://backend.qa.fieldtwin.com/API/v1.9/'\n",
        "api_url_input = widgets.Text(\n",
        "  description = 'API:',\n",
        "  layout = widgets.Layout(width='25rem'),\n",
        "  value = api_url,\n",
        "  placeholder = api_url,\n",
        ")\n",
        "\n",
        "# API Token input\n",
        "token_input = widgets.Password(\n",
        "  description = 'Token',\n",
        "  value = '',\n",
        "  placeholder = 'Enter API Token',\n",
        ")\n",
        "\n",
        "# Project Id input\n",
        "project_id = '-M-HHqMifhz6qskW2goc'\n",
        "project_id_input = widgets.Text(\n",
        "  value = project_id,\n",
        "  placeholder = project_id,\n",
        "  description='Project:',\n",
        ")\n",
        "\n",
        "# Subproject Id input\n",
        "subproject_id = '-M-HI0DPuadaK9GLCWzR'\n",
        "subproject_id_input = widgets.Text(\n",
        "  description = 'SubProject:',\n",
        "  value = subproject_id,\n",
        "  placeholder = subproject_id,\n",
        ")\n",
        "\n",
        "# Load subproject button\n",
        "subproject_button = widgets.Button(\n",
        "  description = 'Load SubProject', \n",
        "  button_style='info'\n",
        ")\n",
        "\n",
        "# create connection dropdown menu\n",
        "connection_select = widgets.Dropdown()\n",
        "\n",
        "# create the button to plot the connection profile\n",
        "connection_button = widgets.Button(\n",
        "  description = 'Display Profile', \n",
        "  button_style='info'\n",
        ")\n",
        "\n",
        "# Display the input form\n",
        "print('Enter the FieldTwin project settings\\n')\n",
        "display(\n",
        "  api_url_input, \n",
        "  token_input, \n",
        "  project_id_input, \n",
        "  subproject_id_input, \n",
        ")"
      ]
    },
    {
      "cell_type": "markdown",
      "metadata": {
        "id": "ZywtAyC0jJvK"
      },
      "source": [
        "The code below sends an API GET request to load the subproject data."
      ]
    },
    {
      "cell_type": "code",
      "execution_count": 20,
      "metadata": {
        "cellView": "form",
        "colab": {
          "base_uri": "https://localhost:8080/",
          "height": 120,
          "referenced_widgets": [
            "5bb130b4c75c48289f328d0464f336cc",
            "8df9a1972aef46a98845e402b2065648",
            "12c5939c059b4ac4859224eaeb2261df"
          ]
        },
        "id": "lpObroYrHuRm",
        "outputId": "192efc61-82ea-4e52-92b4-a6a13c767c42"
      },
      "outputs": [
        {
          "output_type": "display_data",
          "data": {
            "text/plain": [
              "Button(button_style='info', description='Load SubProject', style=ButtonStyle())"
            ],
            "application/vnd.jupyter.widget-view+json": {
              "version_major": 2,
              "version_minor": 0,
              "model_id": "5bb130b4c75c48289f328d0464f336cc"
            }
          },
          "metadata": {}
        },
        {
          "output_type": "stream",
          "name": "stdout",
          "text": [
            "\n",
            "Loading ...\n",
            "\n",
            "Loaded subproject: Subproject 1 - Base Case\n"
          ]
        }
      ],
      "source": [
        "#@title Load the subproject\n",
        "\n",
        "# The FieldTwin subproject data\n",
        "subproject = {}\n",
        "connections = []\n",
        "connection_list = []\n",
        "\n",
        "# configure the subproject button action\n",
        "display(subproject_button)\n",
        "@subproject_button.on_click\n",
        "def on_subproject_click(b):\n",
        "  global subproject \n",
        "  global connections\n",
        "  global connection_list\n",
        "\n",
        "  # set up the API request\n",
        "  api_url = api_url_input.value\n",
        "  api_token = token_input.value\n",
        "  project_id = project_id_input.value\n",
        "  subproject_id = subproject_id_input.value\n",
        "\n",
        "  if api_token:\n",
        "    print('\\nLoading ...\\n')\n",
        "\n",
        "    # retrieve the subproject data using the FieldTwin API\n",
        "    response = requests.get(\n",
        "      f'{api_url}{project_id}/subProject/{subproject_id}',\n",
        "      headers={\n",
        "        'token': api_token,\n",
        "        # request the connection is sampled every 1 unit\n",
        "        'sample-every': '1',\n",
        "        # set the sample method to simplify to significantly reduce the sampled data size\n",
        "        'simplify': 'true',\n",
        "      }\n",
        "    )\n",
        "    subproject = response.json()\n",
        "\n",
        "    print(f\"Loaded subproject: {subproject['name']}\")\n",
        "\n",
        "    # get list of connections from the loaded subproject data\n",
        "    if 'connections' in subproject:\n",
        "      connections = subproject['connections']\n",
        "\n",
        "      # extract a list of connections\n",
        "      connection_list = []\n",
        "      for connection_id in connections:\n",
        "        connection = connections[connection_id]\n",
        "        item = {\n",
        "          'name': connection['params']['label'], \n",
        "          'id': connection_id\n",
        "        }\n",
        "        connection_list.append(item)\n",
        "\n",
        "        # populate the connection selection menu\n",
        "        connection_select.options = [item['name'] for item in connection_list]\n",
        "\n",
        "  else:\n",
        "    print('API access token must be entered')\n"
      ]
    },
    {
      "cell_type": "markdown",
      "metadata": {
        "id": "FvtUo7aelMNf"
      },
      "source": [
        "The code below displays the connection selection menu and provides a button.   \n",
        "to generate the connection profile plot."
      ]
    },
    {
      "cell_type": "code",
      "execution_count": 21,
      "metadata": {
        "cellView": "form",
        "colab": {
          "base_uri": "https://localhost:8080/",
          "height": 449,
          "referenced_widgets": [
            "addbc073e28543bfa4c4ea350610f011",
            "63f5bee3cee84c7ba9500c4e1e09a109",
            "42c00109a2a44ecfb8816847f86e4057",
            "3a6e520ac0aa4e77bc65484165ab5702",
            "b1b3e59c20144c68841d2cb2507591d8",
            "09549e58eef444bba14e93118114bbd1"
          ]
        },
        "id": "bhUnlqaqgZo-",
        "outputId": "36ca8859-b7c3-449b-8374-ceeef97b1768"
      },
      "outputs": [
        {
          "output_type": "stream",
          "name": "stdout",
          "text": [
            "Select connection\n"
          ]
        },
        {
          "output_type": "display_data",
          "data": {
            "text/plain": [
              "Dropdown(options=(), value=None)"
            ],
            "application/vnd.jupyter.widget-view+json": {
              "version_major": 2,
              "version_minor": 0,
              "model_id": "addbc073e28543bfa4c4ea350610f011"
            }
          },
          "metadata": {}
        },
        {
          "output_type": "display_data",
          "data": {
            "text/plain": [
              "Button(button_style='info', description='Display Profile', style=ButtonStyle())"
            ],
            "application/vnd.jupyter.widget-view+json": {
              "version_major": 2,
              "version_minor": 0,
              "model_id": "3a6e520ac0aa4e77bc65484165ab5702"
            }
          },
          "metadata": {}
        },
        {
          "output_type": "stream",
          "name": "stdout",
          "text": [
            "\n"
          ]
        },
        {
          "output_type": "display_data",
          "data": {
            "text/plain": [
              "<Figure size 720x360 with 1 Axes>"
            ],
            "image/png": "[encoded data removed]"
          },
          "metadata": {}
        }
      ],
      "source": [
        "#@title Plot connection profile\n",
        "import math\n",
        "import matplotlib.pyplot as plotter\n",
        "from matplotlib.pyplot import figure\n",
        "\n",
        "# display the connection selection UI\n",
        "print('Select connection')\n",
        "display(connection_select, connection_button)\n",
        "\n",
        "@connection_button.on_click\n",
        "def on_connection_click(b):\n",
        "  global connections\n",
        "  global connection_list\n",
        "\n",
        "  if len(connection_list) > 0:\n",
        "    # obtain the id of the selected connection\n",
        "    item = connection_list[connection_select.index]\n",
        "    connection_id = item['id']\n",
        "\n",
        "    # get the selected connection data\n",
        "    connection_data = connections[connection_id]\n",
        "\n",
        "    # obtain the connection coordinate points\n",
        "    points = []\n",
        "    points.append(connection_data['fromCoordinate'])\n",
        "\n",
        "    if 'sampled' in connection_data:\n",
        "      # use the sampled connection data if it is available\n",
        "      points = connection_data['sampled']\n",
        "    elif 'intermediaryPoints' in connection_data:\n",
        "      # otherwise use the intermediary points\n",
        "      points = connection_data['intermediaryPoints']\n",
        "      points.append(connection_data['toCoordinate'])\n",
        "\n",
        "    # print(points)\n",
        "\n",
        "    # calculate the distance vs depth profile for the connection\n",
        "    profile_distance = []\n",
        "    profile_depth = []\n",
        "    distance = 0\n",
        "    x0 = points[0]['x']\n",
        "    y0 = points[0]['y']\n",
        "    for point in points:\n",
        "      x1 = point['x']\n",
        "      y1 = point['y']\n",
        "      z = point['z']\n",
        "      # accumulate the along connection distance\n",
        "      distance += math.hypot((x1-x0), (y1-y0))\n",
        "      x0 = x1\n",
        "      y0 = y1\n",
        "      profile_distance.append(distance)\n",
        "      profile_depth.append(z)\n",
        "\n",
        "    # Plot the profile\n",
        "    print()\n",
        "    unit = subproject['coordinateUnits']\n",
        "    # set the plot styling and size\n",
        "    plotter.style.use('seaborn-darkgrid')\n",
        "    plotter.figure(figsize=(10,5))\n",
        "    # plot the profile\n",
        "    plotter.plot(profile_distance, profile_depth, c = '#0080C0')\n",
        "    # set the plot title and axes labels\n",
        "    plotter.title(f\"{item['name']} Connection Profile\")\n",
        "    plotter.xlabel(f'Distance along connection ({unit})')\n",
        "    plotter.ylabel(f'Depth ({unit})')"
      ]
    }
  ],
  "metadata": {
    "colab": {
      "provenance": []
    },
    "kernelspec": {
      "display_name": "Python 3",
      "language": "python",
      "name": "python3"
    },
    "language_info": {
      "name": "python",
      "version": "3.10.6"
    },
    "vscode": {
      "interpreter": {
        "hash": "489b69812d91cdc4512ad4938c8ece31726e620dd339f4636940385714e77ad4"
      }
    },
    "widgets": {
      "application/vnd.jupyter.widget-state+json": {
        "31d73096ff4a4eac9304854ffcdd517a": {
          "model_module": "@jupyter-widgets/controls",
          "model_name": "TextModel",
          "model_module_version": "1.5.0",
          "state": {
            "_dom_classes": [],
            "_model_module": "@jupyter-widgets/controls",
            "_model_module_version": "1.5.0",
            "_model_name": "TextModel",
            "_view_count": null,
            "_view_module": "@jupyter-widgets/controls",
            "_view_module_version": "1.5.0",
            "_view_name": "TextView",
            "continuous_update": true,
            "description": "API:",
            "description_tooltip": null,
            "disabled": false,
            "layout": "IPY_MODEL_26028b5029cc45f2a3a5019eb131e314",
            "placeholder": "https://backend.qa.fieldtwin.com/API/v1.9/",
            "style": "IPY_MODEL_7837f4207fcf4ab1acdbe0dfa2f589f0",
            "value": "https://backend.qa.fieldtwin.com/API/v1.9/"
          }
        },
        "26028b5029cc45f2a3a5019eb131e314": {
          "model_module": "@jupyter-widgets/base",
          "model_name": "LayoutModel",
          "model_module_version": "1.2.0",
          "state": {
            "_model_module": "@jupyter-widgets/base",
            "_model_module_version": "1.2.0",
            "_model_name": "LayoutModel",
            "_view_count": null,
            "_view_module": "@jupyter-widgets/base",
            "_view_module_version": "1.2.0",
            "_view_name": "LayoutView",
            "align_content": null,
            "align_items": null,
            "align_self": null,
            "border": null,
            "bottom": null,
            "display": null,
            "flex": null,
            "flex_flow": null,
            "grid_area": null,
            "grid_auto_columns": null,
            "grid_auto_flow": null,
            "grid_auto_rows": null,
            "grid_column": null,
            "grid_gap": null,
            "grid_row": null,
            "grid_template_areas": null,
            "grid_template_columns": null,
            "grid_template_rows": null,
            "height": null,
            "justify_content": null,
            "justify_items": null,
            "left": null,
            "margin": null,
            "max_height": null,
            "max_width": null,
            "min_height": null,
            "min_width": null,
            "object_fit": null,
            "object_position": null,
            "order": null,
            "overflow": null,
            "overflow_x": null,
            "overflow_y": null,
            "padding": null,
            "right": null,
            "top": null,
            "visibility": null,
            "width": "25rem"
          }
        },
        "7837f4207fcf4ab1acdbe0dfa2f589f0": {
          "model_module": "@jupyter-widgets/controls",
          "model_name": "DescriptionStyleModel",
          "model_module_version": "1.5.0",
          "state": {
            "_model_module": "@jupyter-widgets/controls",
            "_model_module_version": "1.5.0",
            "_model_name": "DescriptionStyleModel",
            "_view_count": null,
            "_view_module": "@jupyter-widgets/base",
            "_view_module_version": "1.2.0",
            "_view_name": "StyleView",
            "description_width": ""
          }
        },
        "6e7c38f82a0243499f160f6e87cbe570": {
          "model_module": "@jupyter-widgets/controls",
          "model_name": "PasswordModel",
          "model_module_version": "1.5.0",
          "state": {
            "_dom_classes": [],
            "_model_module": "@jupyter-widgets/controls",
            "_model_module_version": "1.5.0",
            "_model_name": "PasswordModel",
            "_view_count": null,
            "_view_module": "@jupyter-widgets/controls",
            "_view_module_version": "1.5.0",
            "_view_name": "PasswordView",
            "continuous_update": true,
            "description": "Token",
            "description_tooltip": null,
            "disabled": false,
            "layout": "IPY_MODEL_31147d5622124575899fc162568cd195",
            "placeholder": "Enter API Token",
            "style": "IPY_MODEL_73c715460e9f4e27b9aea38604ec7383",
            "value": "ed26d814-b660-40da-83f3-061ed48aa29e"
          }
        },
        "31147d5622124575899fc162568cd195": {
          "model_module": "@jupyter-widgets/base",
          "model_name": "LayoutModel",
          "model_module_version": "1.2.0",
          "state": {
            "_model_module": "@jupyter-widgets/base",
            "_model_module_version": "1.2.0",
            "_model_name": "LayoutModel",
            "_view_count": null,
            "_view_module": "@jupyter-widgets/base",
            "_view_module_version": "1.2.0",
            "_view_name": "LayoutView",
            "align_content": null,
            "align_items": null,
            "align_self": null,
            "border": null,
            "bottom": null,
            "display": null,
            "flex": null,
            "flex_flow": null,
            "grid_area": null,
            "grid_auto_columns": null,
            "grid_auto_flow": null,
            "grid_auto_rows": null,
            "grid_column": null,
            "grid_gap": null,
            "grid_row": null,
            "grid_template_areas": null,
            "grid_template_columns": null,
            "grid_template_rows": null,
            "height": null,
            "justify_content": null,
            "justify_items": null,
            "left": null,
            "margin": null,
            "max_height": null,
            "max_width": null,
            "min_height": null,
            "min_width": null,
            "object_fit": null,
            "object_position": null,
            "order": null,
            "overflow": null,
            "overflow_x": null,
            "overflow_y": null,
            "padding": null,
            "right": null,
            "top": null,
            "visibility": null,
            "width": null
          }
        },
        "73c715460e9f4e27b9aea38604ec7383": {
          "model_module": "@jupyter-widgets/controls",
          "model_name": "DescriptionStyleModel",
          "model_module_version": "1.5.0",
          "state": {
            "_model_module": "@jupyter-widgets/controls",
            "_model_module_version": "1.5.0",
            "_model_name": "DescriptionStyleModel",
            "_view_count": null,
            "_view_module": "@jupyter-widgets/base",
            "_view_module_version": "1.2.0",
            "_view_name": "StyleView",
            "description_width": ""
          }
        },
        "c6c5cc5087f84f70b82acfc4a6bbbba6": {
          "model_module": "@jupyter-widgets/controls",
          "model_name": "TextModel",
          "model_module_version": "1.5.0",
          "state": {
            "_dom_classes": [],
            "_model_module": "@jupyter-widgets/controls",
            "_model_module_version": "1.5.0",
            "_model_name": "TextModel",
            "_view_count": null,
            "_view_module": "@jupyter-widgets/controls",
            "_view_module_version": "1.5.0",
            "_view_name": "TextView",
            "continuous_update": true,
            "description": "Project:",
            "description_tooltip": null,
            "disabled": false,
            "layout": "IPY_MODEL_8104de15c0bd4940a8207212a98a796a",
            "placeholder": "-M-HHqMifhz6qskW2goc",
            "style": "IPY_MODEL_5f14d3887b6742b6912deebbe59f4825",
            "value": "-M-HHqMifhz6qskW2goc"
          }
        },
        "8104de15c0bd4940a8207212a98a796a": {
          "model_module": "@jupyter-widgets/base",
          "model_name": "LayoutModel",
          "model_module_version": "1.2.0",
          "state": {
            "_model_module": "@jupyter-widgets/base",
            "_model_module_version": "1.2.0",
            "_model_name": "LayoutModel",
            "_view_count": null,
            "_view_module": "@jupyter-widgets/base",
            "_view_module_version": "1.2.0",
            "_view_name": "LayoutView",
            "align_content": null,
            "align_items": null,
            "align_self": null,
            "border": null,
            "bottom": null,
            "display": null,
            "flex": null,
            "flex_flow": null,
            "grid_area": null,
            "grid_auto_columns": null,
            "grid_auto_flow": null,
            "grid_auto_rows": null,
            "grid_column": null,
            "grid_gap": null,
            "grid_row": null,
            "grid_template_areas": null,
            "grid_template_columns": null,
            "grid_template_rows": null,
            "height": null,
            "justify_content": null,
            "justify_items": null,
            "left": null,
            "margin": null,
            "max_height": null,
            "max_width": null,
            "min_height": null,
            "min_width": null,
            "object_fit": null,
            "object_position": null,
            "order": null,
            "overflow": null,
            "overflow_x": null,
            "overflow_y": null,
            "padding": null,
            "right": null,
            "top": null,
            "visibility": null,
            "width": null
          }
        },
        "5f14d3887b6742b6912deebbe59f4825": {
          "model_module": "@jupyter-widgets/controls",
          "model_name": "DescriptionStyleModel",
          "model_module_version": "1.5.0",
          "state": {
            "_model_module": "@jupyter-widgets/controls",
            "_model_module_version": "1.5.0",
            "_model_name": "DescriptionStyleModel",
            "_view_count": null,
            "_view_module": "@jupyter-widgets/base",
            "_view_module_version": "1.2.0",
            "_view_name": "StyleView",
            "description_width": ""
          }
        },
        "cd2f1eea2c844de9b50e618c516b40ed": {
          "model_module": "@jupyter-widgets/controls",
          "model_name": "TextModel",
          "model_module_version": "1.5.0",
          "state": {
            "_dom_classes": [],
            "_model_module": "@jupyter-widgets/controls",
            "_model_module_version": "1.5.0",
            "_model_name": "TextModel",
            "_view_count": null,
            "_view_module": "@jupyter-widgets/controls",
            "_view_module_version": "1.5.0",
            "_view_name": "TextView",
            "continuous_update": true,
            "description": "SubProject:",
            "description_tooltip": null,
            "disabled": false,
            "layout": "IPY_MODEL_ed08246b98e44b4a8799eb4393590731",
            "placeholder": "-M-HI0DPuadaK9GLCWzR",
            "style": "IPY_MODEL_10e1eec060d346a59c99786d6fb929be",
            "value": "-M-HI0DPuadaK9GLCWzR"
          }
        },
        "ed08246b98e44b4a8799eb4393590731": {
          "model_module": "@jupyter-widgets/base",
          "model_name": "LayoutModel",
          "model_module_version": "1.2.0",
          "state": {
            "_model_module": "@jupyter-widgets/base",
            "_model_module_version": "1.2.0",
            "_model_name": "LayoutModel",
            "_view_count": null,
            "_view_module": "@jupyter-widgets/base",
            "_view_module_version": "1.2.0",
            "_view_name": "LayoutView",
            "align_content": null,
            "align_items": null,
            "align_self": null,
            "border": null,
            "bottom": null,
            "display": null,
            "flex": null,
            "flex_flow": null,
            "grid_area": null,
            "grid_auto_columns": null,
            "grid_auto_flow": null,
            "grid_auto_rows": null,
            "grid_column": null,
            "grid_gap": null,
            "grid_row": null,
            "grid_template_areas": null,
            "grid_template_columns": null,
            "grid_template_rows": null,
            "height": null,
            "justify_content": null,
            "justify_items": null,
            "left": null,
            "margin": null,
            "max_height": null,
            "max_width": null,
            "min_height": null,
            "min_width": null,
            "object_fit": null,
            "object_position": null,
            "order": null,
            "overflow": null,
            "overflow_x": null,
            "overflow_y": null,
            "padding": null,
            "right": null,
            "top": null,
            "visibility": null,
            "width": null
          }
        },
        "10e1eec060d346a59c99786d6fb929be": {
          "model_module": "@jupyter-widgets/controls",
          "model_name": "DescriptionStyleModel",
          "model_module_version": "1.5.0",
          "state": {
            "_model_module": "@jupyter-widgets/controls",
            "_model_module_version": "1.5.0",
            "_model_name": "DescriptionStyleModel",
            "_view_count": null,
            "_view_module": "@jupyter-widgets/base",
            "_view_module_version": "1.2.0",
            "_view_name": "StyleView",
            "description_width": ""
          }
        },
        "5bb130b4c75c48289f328d0464f336cc": {
          "model_module": "@jupyter-widgets/controls",
          "model_name": "ButtonModel",
          "model_module_version": "1.5.0",
          "state": {
            "_dom_classes": [],
            "_model_module": "@jupyter-widgets/controls",
            "_model_module_version": "1.5.0",
            "_model_name": "ButtonModel",
            "_view_count": null,
            "_view_module": "@jupyter-widgets/controls",
            "_view_module_version": "1.5.0",
            "_view_name": "ButtonView",
            "button_style": "info",
            "description": "Load SubProject",
            "disabled": false,
            "icon": "",
            "layout": "IPY_MODEL_8df9a1972aef46a98845e402b2065648",
            "style": "IPY_MODEL_12c5939c059b4ac4859224eaeb2261df",
            "tooltip": ""
          }
        },
        "8df9a1972aef46a98845e402b2065648": {
          "model_module": "@jupyter-widgets/base",
          "model_name": "LayoutModel",
          "model_module_version": "1.2.0",
          "state": {
            "_model_module": "@jupyter-widgets/base",
            "_model_module_version": "1.2.0",
            "_model_name": "LayoutModel",
            "_view_count": null,
            "_view_module": "@jupyter-widgets/base",
            "_view_module_version": "1.2.0",
            "_view_name": "LayoutView",
            "align_content": null,
            "align_items": null,
            "align_self": null,
            "border": null,
            "bottom": null,
            "display": null,
            "flex": null,
            "flex_flow": null,
            "grid_area": null,
            "grid_auto_columns": null,
            "grid_auto_flow": null,
            "grid_auto_rows": null,
            "grid_column": null,
            "grid_gap": null,
            "grid_row": null,
            "grid_template_areas": null,
            "grid_template_columns": null,
            "grid_template_rows": null,
            "height": null,
            "justify_content": null,
            "justify_items": null,
            "left": null,
            "margin": null,
            "max_height": null,
            "max_width": null,
            "min_height": null,
            "min_width": null,
            "object_fit": null,
            "object_position": null,
            "order": null,
            "overflow": null,
            "overflow_x": null,
            "overflow_y": null,
            "padding": null,
            "right": null,
            "top": null,
            "visibility": null,
            "width": null
          }
        },
        "12c5939c059b4ac4859224eaeb2261df": {
          "model_module": "@jupyter-widgets/controls",
          "model_name": "ButtonStyleModel",
          "model_module_version": "1.5.0",
          "state": {
            "_model_module": "@jupyter-widgets/controls",
            "_model_module_version": "1.5.0",
            "_model_name": "ButtonStyleModel",
            "_view_count": null,
            "_view_module": "@jupyter-widgets/base",
            "_view_module_version": "1.2.0",
            "_view_name": "StyleView",
            "button_color": null,
            "font_weight": ""
          }
        },
        "addbc073e28543bfa4c4ea350610f011": {
          "model_module": "@jupyter-widgets/controls",
          "model_name": "DropdownModel",
          "model_module_version": "1.5.0",
          "state": {
            "_dom_classes": [],
            "_model_module": "@jupyter-widgets/controls",
            "_model_module_version": "1.5.0",
            "_model_name": "DropdownModel",
            "_options_labels": [
              "Water Injection #1",
              "Umbilical #9",
              "Umbilical #1",
              "Oil Production #2",
              "MEG #12",
              "Umbilical #2",
              "Oil Production #3",
              "Hydraulic Lead #1",
              "Umbilical #3",
              "Umbilical #4",
              "Umbilical #5",
              "Umbilical #6",
              "Hydraulic Lead #2",
              "Water Injection #2",
              "Oil Production #5",
              "Oil Production #6",
              "Oil Production #7",
              "Oil Production #4",
              "Umbilical #8",
              "Umbilical #1",
              "Umbilical #1",
              "Oil Production #33",
              "Oil Production #8",
              "Umbilical #12",
              "Umbilical #13",
              "Umbilical #14"
            ],
            "_view_count": null,
            "_view_module": "@jupyter-widgets/controls",
            "_view_module_version": "1.5.0",
            "_view_name": "DropdownView",
            "description": "",
            "description_tooltip": null,
            "disabled": false,
            "index": 21,
            "layout": "IPY_MODEL_63f5bee3cee84c7ba9500c4e1e09a109",
            "style": "IPY_MODEL_42c00109a2a44ecfb8816847f86e4057"
          }
        },
        "63f5bee3cee84c7ba9500c4e1e09a109": {
          "model_module": "@jupyter-widgets/base",
          "model_name": "LayoutModel",
          "model_module_version": "1.2.0",
          "state": {
            "_model_module": "@jupyter-widgets/base",
            "_model_module_version": "1.2.0",
            "_model_name": "LayoutModel",
            "_view_count": null,
            "_view_module": "@jupyter-widgets/base",
            "_view_module_version": "1.2.0",
            "_view_name": "LayoutView",
            "align_content": null,
            "align_items": null,
            "align_self": null,
            "border": null,
            "bottom": null,
            "display": null,
            "flex": null,
            "flex_flow": null,
            "grid_area": null,
            "grid_auto_columns": null,
            "grid_auto_flow": null,
            "grid_auto_rows": null,
            "grid_column": null,
            "grid_gap": null,
            "grid_row": null,
            "grid_template_areas": null,
            "grid_template_columns": null,
            "grid_template_rows": null,
            "height": null,
            "justify_content": null,
            "justify_items": null,
            "left": null,
            "margin": null,
            "max_height": null,
            "max_width": null,
            "min_height": null,
            "min_width": null,
            "object_fit": null,
            "object_position": null,
            "order": null,
            "overflow": null,
            "overflow_x": null,
            "overflow_y": null,
            "padding": null,
            "right": null,
            "top": null,
            "visibility": null,
            "width": null
          }
        },
        "42c00109a2a44ecfb8816847f86e4057": {
          "model_module": "@jupyter-widgets/controls",
          "model_name": "DescriptionStyleModel",
          "model_module_version": "1.5.0",
          "state": {
            "_model_module": "@jupyter-widgets/controls",
            "_model_module_version": "1.5.0",
            "_model_name": "DescriptionStyleModel",
            "_view_count": null,
            "_view_module": "@jupyter-widgets/base",
            "_view_module_version": "1.2.0",
            "_view_name": "StyleView",
            "description_width": ""
          }
        },
        "3a6e520ac0aa4e77bc65484165ab5702": {
          "model_module": "@jupyter-widgets/controls",
          "model_name": "ButtonModel",
          "model_module_version": "1.5.0",
          "state": {
            "_dom_classes": [],
            "_model_module": "@jupyter-widgets/controls",
            "_model_module_version": "1.5.0",
            "_model_name": "ButtonModel",
            "_view_count": null,
            "_view_module": "@jupyter-widgets/controls",
            "_view_module_version": "1.5.0",
            "_view_name": "ButtonView",
            "button_style": "info",
            "description": "Display Profile",
            "disabled": false,
            "icon": "",
            "layout": "IPY_MODEL_b1b3e59c20144c68841d2cb2507591d8",
            "style": "IPY_MODEL_09549e58eef444bba14e93118114bbd1",
            "tooltip": ""
          }
        },
        "b1b3e59c20144c68841d2cb2507591d8": {
          "model_module": "@jupyter-widgets/base",
          "model_name": "LayoutModel",
          "model_module_version": "1.2.0",
          "state": {
            "_model_module": "@jupyter-widgets/base",
            "_model_module_version": "1.2.0",
            "_model_name": "LayoutModel",
            "_view_count": null,
            "_view_module": "@jupyter-widgets/base",
            "_view_module_version": "1.2.0",
            "_view_name": "LayoutView",
            "align_content": null,
            "align_items": null,
            "align_self": null,
            "border": null,
            "bottom": null,
            "display": null,
            "flex": null,
            "flex_flow": null,
            "grid_area": null,
            "grid_auto_columns": null,
            "grid_auto_flow": null,
            "grid_auto_rows": null,
            "grid_column": null,
            "grid_gap": null,
            "grid_row": null,
            "grid_template_areas": null,
            "grid_template_columns": null,
            "grid_template_rows": null,
            "height": null,
            "justify_content": null,
            "justify_items": null,
            "left": null,
            "margin": null,
            "max_height": null,
            "max_width": null,
            "min_height": null,
            "min_width": null,
            "object_fit": null,
            "object_position": null,
            "order": null,
            "overflow": null,
            "overflow_x": null,
            "overflow_y": null,
            "padding": null,
            "right": null,
            "top": null,
            "visibility": null,
            "width": null
          }
        },
        "09549e58eef444bba14e93118114bbd1": {
          "model_module": "@jupyter-widgets/controls",
          "model_name": "ButtonStyleModel",
          "model_module_version": "1.5.0",
          "state": {
            "_model_module": "@jupyter-widgets/controls",
            "_model_module_version": "1.5.0",
            "_model_name": "ButtonStyleModel",
            "_view_count": null,
            "_view_module": "@jupyter-widgets/base",
            "_view_module_version": "1.2.0",
            "_view_name": "StyleView",
            "button_color": null,
            "font_weight": ""
          }
        }
      }
    }
  },
  "nbformat": 4,
  "nbformat_minor": 0
}